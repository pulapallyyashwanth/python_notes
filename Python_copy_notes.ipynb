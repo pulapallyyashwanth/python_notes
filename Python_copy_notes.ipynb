{
  "nbformat": 4,
  "nbformat_minor": 0,
  "metadata": {
    "colab": {
      "provenance": [],
      "authorship_tag": "ABX9TyPn666uuvSWnvu+7ah7uveS",
      "include_colab_link": true
    },
    "kernelspec": {
      "name": "python3",
      "display_name": "Python 3"
    },
    "language_info": {
      "name": "python"
    }
  },
  "cells": [
    {
      "cell_type": "markdown",
      "metadata": {
        "id": "view-in-github",
        "colab_type": "text"
      },
      "source": [
        "<a href=\"https://colab.research.google.com/github/pulapallyyashwanth/python_notes/blob/main/Python_copy_notes.ipynb\" target=\"_parent\"><img src=\"https://colab.research.google.com/assets/colab-badge.svg\" alt=\"Open In Colab\"/></a>"
      ]
    },
    {
      "cell_type": "code",
      "execution_count": null,
      "metadata": {
        "id": "yC9gv2eYJBX4"
      },
      "outputs": [],
      "source": []
    },
    {
      "cell_type": "markdown",
      "source": [
        "#Module 1"
      ],
      "metadata": {
        "id": "jAZsNcTkVIXz"
      }
    },
    {
      "cell_type": "code",
      "execution_count": null,
      "metadata": {
        "colab": {
          "base_uri": "https://localhost:8080/"
        },
        "id": "RX4qqWqVUB3M",
        "outputId": "35c8557d-503e-4890-e0d8-e065e7181499"
      },
      "outputs": [
        {
          "output_type": "stream",
          "name": "stdout",
          "text": [
            "Hello wrold!\n"
          ]
        }
      ],
      "source": [
        "#write a program to print \"hello world\"\n",
        "# by using \"print()\" its an inbuilt function to display your output\n",
        "print(\"Hello wrold!\")"
      ]
    },
    {
      "cell_type": "markdown",
      "source": [
        "#Numerical data types in Python"
      ],
      "metadata": {
        "id": "vs4rWvOsWh2P"
      }
    },
    {
      "cell_type": "code",
      "source": [
        "#there 3 types\n",
        "#1. Integer:-  its a whole number either +ve or -ve without decimal points\n",
        "print(10)\n",
        "print(-5)\n",
        "#find the data type for above integers\n",
        "#use the 'type()' is an inbuilt function used to find the data type\n",
        "print(type(10))\n",
        "print(type(-5))"
      ],
      "metadata": {
        "id": "AF_cxazNWmxF"
      },
      "execution_count": null,
      "outputs": []
    },
    {
      "cell_type": "code",
      "source": [
        "#2. Float:-  its a whole number either +ve or -ve with decimal point\n",
        "print(10.5)\n",
        "print(-5.5)\n",
        "#print the data type for above integers\n",
        "print(type(10.5))\n",
        "print(type(-5.5))"
      ],
      "metadata": {
        "colab": {
          "base_uri": "https://localhost:8080/"
        },
        "id": "1ufVvujYXrLX",
        "outputId": "5acd5f01-1633-4710-b95c-6e62ee92d5c5"
      },
      "execution_count": null,
      "outputs": [
        {
          "output_type": "stream",
          "name": "stdout",
          "text": [
            "10.5\n",
            "-5.5\n",
            "<class 'float'>\n",
            "<class 'float'>\n"
          ]
        }
      ]
    },
    {
      "cell_type": "code",
      "source": [
        "#3.complex number:- A real number with its imaginary part is known as complex number\n",
        "# imaginary part is denoted with \"j\"--> is known as iota\n",
        "print(2 + 5j)\n",
        "print(3 + 6j)\n",
        "print(\n",
        "    (2 + 5j))\n",
        "print(type(3 + 6j))"
      ],
      "metadata": {
        "id": "OrggXm80YkBN"
      },
      "execution_count": null,
      "outputs": []
    },
    {
      "cell_type": "markdown",
      "source": [
        "#Arthametic Operators"
      ],
      "metadata": {
        "id": "7s5cnTadabxh"
      }
    },
    {
      "cell_type": "code",
      "source": [
        "#what are all arthmetic operators do we have in python?\n",
        "#There are 7 Types\n",
        "#1.Addition----> +\n",
        "print(10 + 5)\n",
        "#2. substarction ---> -\n",
        "print(10 - 5)\n",
        "#3. multiplication----> *\n",
        "print(10 * 5)\n",
        "#4. division -----> /\n",
        "print(10 / 5)\n",
        "#why the default dtype for division is float?\n",
        "#To Get proper co-effiecient the founder of python \"gudeo van rossum\" make dtype as float"
      ],
      "metadata": {
        "id": "-205ejlsagRc"
      },
      "execution_count": null,
      "outputs": []
    },
    {
      "cell_type": "code",
      "source": [
        "#5. Modulus---> %--> remainder of the division\n",
        "print(10 % 5)\n",
        "print(7 % 2)\n",
        "print(10 % 2)"
      ],
      "metadata": {
        "id": "rKcpjQQab6oT"
      },
      "execution_count": null,
      "outputs": []
    },
    {
      "cell_type": "code",
      "source": [
        "#6. exponential----> ** --> to the power off\n",
        "print(10 ** 5)\n",
        "print(2 ** 3)"
      ],
      "metadata": {
        "id": "3zMuKpWvcZ7s"
      },
      "execution_count": null,
      "outputs": []
    },
    {
      "cell_type": "code",
      "source": [
        "#7. floor division--> //\n",
        "# it ignores the values after the decimal point\n",
        "print(10 / 3)\n",
        "print(10 // 3)"
      ],
      "metadata": {
        "id": "zOGt2Q3scoLL"
      },
      "execution_count": null,
      "outputs": []
    },
    {
      "cell_type": "markdown",
      "source": [
        "**10-12-2024**"
      ],
      "metadata": {
        "id": "KeaVpszoXcDJ"
      }
    },
    {
      "cell_type": "code",
      "source": [
        "#what ia Floor value?\n",
        "#The value before the the decimal point is known as floor value\n",
        "#what is the ceil value?\n",
        "#The next upcoimng value or nearest value is known as ceil value."
      ],
      "metadata": {
        "id": "KyKrvQRdXfw7"
      },
      "execution_count": null,
      "outputs": []
    },
    {
      "cell_type": "markdown",
      "source": [
        "**Round()**"
      ],
      "metadata": {
        "id": "mIFTssOvYeiC"
      }
    },
    {
      "cell_type": "code",
      "source": [
        "#How to use round()?\n",
        "#can be used inside the print()\n",
        "# ** round can be applicable if the number is float.\n",
        "print(round(6))"
      ],
      "metadata": {
        "colab": {
          "base_uri": "https://localhost:8080/"
        },
        "id": "jg0AjAy2YW4R",
        "outputId": "573f4d2b-b2a0-4afe-9491-460d116af4cc"
      },
      "execution_count": null,
      "outputs": [
        {
          "output_type": "stream",
          "name": "stdout",
          "text": [
            "6\n"
          ]
        }
      ]
    },
    {
      "cell_type": "code",
      "source": [
        "print(round(2.53))"
      ],
      "metadata": {
        "colab": {
          "base_uri": "https://localhost:8080/"
        },
        "id": "WljikTDdZNSh",
        "outputId": "823ae1b0-90f5-4efe-e8ad-a33ad7af6f3b"
      },
      "execution_count": null,
      "outputs": [
        {
          "output_type": "stream",
          "name": "stdout",
          "text": [
            "3\n"
          ]
        }
      ]
    },
    {
      "cell_type": "code",
      "source": [
        "print(round(3.465))"
      ],
      "metadata": {
        "colab": {
          "base_uri": "https://localhost:8080/"
        },
        "id": "dVZU5PMgZY6A",
        "outputId": "39024f34-96b6-44fe-b2fd-0bde6e225e88"
      },
      "execution_count": null,
      "outputs": [
        {
          "output_type": "stream",
          "name": "stdout",
          "text": [
            "3\n"
          ]
        }
      ]
    },
    {
      "cell_type": "code",
      "source": [
        "#  2546.938246746\n",
        "#round(number, ndigits)\n",
        "print(round(2546.938246746,3))\n",
        "#Note:- Round() is used to print the specific ndigits of the float number"
      ],
      "metadata": {
        "colab": {
          "base_uri": "https://localhost:8080/"
        },
        "id": "hhNsEKpEZ2fV",
        "outputId": "d71e5273-c092-48bd-b16b-ea1aa9bc9617"
      },
      "execution_count": null,
      "outputs": [
        {
          "output_type": "stream",
          "name": "stdout",
          "text": [
            "2546.938\n"
          ]
        }
      ]
    },
    {
      "cell_type": "code",
      "source": [
        "#Note if i give -ve ndigits count then the round function ignores the values after the decimal point and make it as zero\n",
        "print(round(12345.73836352,-3))\n",
        "print(round(13644.89764,-3))\n"
      ],
      "metadata": {
        "colab": {
          "base_uri": "https://localhost:8080/"
        },
        "id": "IVC2YtVBaene",
        "outputId": "c549a24c-2597-4a24-ad52-fecdfc068ffa"
      },
      "execution_count": null,
      "outputs": [
        {
          "output_type": "stream",
          "name": "stdout",
          "text": [
            "12000.0\n",
            "14000.0\n"
          ]
        }
      ]
    },
    {
      "cell_type": "markdown",
      "source": [
        "**Varaibles**"
      ],
      "metadata": {
        "id": "MyxPu_DPcitR"
      }
    },
    {
      "cell_type": "code",
      "source": [
        "#what is varaible?\n",
        "#varaibles are nothing but a container where we can store our valuable information and reuse it.\n",
        "#How can we create a varaible?\n",
        "\"\"\" let say father age is 40\n",
        "and son age is half of father age\n",
        "let say father age is x and son age is\n",
        "half of father age then son age is x/2\"\"\""
      ],
      "metadata": {
        "id": "JLUiFturcmxV"
      },
      "execution_count": null,
      "outputs": []
    },
    {
      "cell_type": "code",
      "source": [
        "x = 40\n",
        "son_age = x/2\n",
        "print(son_age)"
      ],
      "metadata": {
        "colab": {
          "base_uri": "https://localhost:8080/"
        },
        "id": "7ClLLfG7e2xu",
        "outputId": "77cfd52d-81a1-445a-94d8-41233997d54c"
      },
      "execution_count": null,
      "outputs": [
        {
          "output_type": "stream",
          "name": "stdout",
          "text": [
            "20.0\n"
          ]
        }
      ]
    },
    {
      "cell_type": "code",
      "source": [
        "#take two numerical varaibles and apply all the arthametic operations?\n",
        "a = 10\n",
        "b = 5\n",
        "print(a + b)"
      ],
      "metadata": {
        "colab": {
          "base_uri": "https://localhost:8080/"
        },
        "id": "HBd6_KX_fPyg",
        "outputId": "c81993a9-c063-4b5c-e251-dc2ced4ab76b"
      },
      "execution_count": null,
      "outputs": [
        {
          "output_type": "stream",
          "name": "stdout",
          "text": [
            "15\n"
          ]
        }
      ]
    },
    {
      "cell_type": "markdown",
      "source": [
        "**Types errors in Python**"
      ],
      "metadata": {
        "id": "1QVKl410gOjx"
      }
    },
    {
      "cell_type": "code",
      "source": [
        "#How many types of errors do we have in python?\n",
        "#There are two types\n",
        "#1. Syntax error\n",
        "#2. Logical error"
      ],
      "metadata": {
        "id": "EMx6NtQhgNlE"
      },
      "execution_count": null,
      "outputs": []
    },
    {
      "cell_type": "markdown",
      "source": [
        "**1. Syntax error**"
      ],
      "metadata": {
        "id": "be0MtjoMggVS"
      }
    },
    {
      "cell_type": "code",
      "source": [
        "#Breaking the rules of programming language can rise an syntax error\n",
        "\"\"\" Multiline comments can be\n",
        "written in double triple quotes or single triple quotes\n",
        "when you use the  (double triple quotes) close it with double triple quotes\n",
        "if you use the single triple quotes(''') close it with single triple quotes(''') \"\"\""
      ],
      "metadata": {
        "id": "KeZajCk9ge_S"
      },
      "execution_count": null,
      "outputs": []
    },
    {
      "cell_type": "code",
      "source": [
        "print(10 * * 3)"
      ],
      "metadata": {
        "id": "RQhp3M4ghpXf"
      },
      "execution_count": null,
      "outputs": []
    },
    {
      "cell_type": "markdown",
      "source": [
        "**2.Logical Error**"
      ],
      "metadata": {
        "id": "QwUjrfXKh1Iw"
      }
    },
    {
      "cell_type": "code",
      "source": [
        "#except syntax error all the erros comes under the logical errors\n",
        "#ex:- indentation error, Name error, attribute error....etc"
      ],
      "metadata": {
        "id": "nxAFc89Nh441"
      },
      "execution_count": null,
      "outputs": []
    },
    {
      "cell_type": "markdown",
      "source": [
        "**Rules to create the varaibles**"
      ],
      "metadata": {
        "id": "AKdYU1WTitmn"
      }
    },
    {
      "cell_type": "code",
      "source": [
        "#1. start creating the varaibles by using the alphabets\n",
        "a = \"hello world!\"\n",
        "print(a)"
      ],
      "metadata": {
        "id": "Xg7Q9w8Vixon"
      },
      "execution_count": null,
      "outputs": []
    },
    {
      "cell_type": "code",
      "source": [
        "#2.Dont start creating the varibles by using the numbers\n",
        "2 = \"hello world\"\n",
        "print(2)"
      ],
      "metadata": {
        "colab": {
          "base_uri": "https://localhost:8080/",
          "height": 106
        },
        "id": "8hFr2C4ti8r4",
        "outputId": "ec9eb480-690b-4b69-d5bd-affdb3385917"
      },
      "execution_count": null,
      "outputs": [
        {
          "output_type": "error",
          "ename": "SyntaxError",
          "evalue": "cannot assign to literal here. Maybe you meant '==' instead of '='? (<ipython-input-32-05e34e25d9ea>, line 2)",
          "traceback": [
            "\u001b[0;36m  File \u001b[0;32m\"<ipython-input-32-05e34e25d9ea>\"\u001b[0;36m, line \u001b[0;32m2\u001b[0m\n\u001b[0;31m    2 = \"hello world\"\u001b[0m\n\u001b[0m    ^\u001b[0m\n\u001b[0;31mSyntaxError\u001b[0m\u001b[0;31m:\u001b[0m cannot assign to literal here. Maybe you meant '==' instead of '='?\n"
          ]
        }
      ]
    },
    {
      "cell_type": "code",
      "source": [
        "#3.if you follow rule 1 and 2 you can use the number in between the varaible name\n",
        "son2age= 40\n",
        "print(son2age)"
      ],
      "metadata": {
        "id": "tqlqDO2UjHpA"
      },
      "execution_count": null,
      "outputs": []
    },
    {
      "cell_type": "code",
      "source": [
        "#4.we should not use the special characters in between the varaibles\n",
        "#@$%^&*\n",
        "son@age = 20\n",
        "print(son@age)"
      ],
      "metadata": {
        "id": "Xoh-N3dHjVOP"
      },
      "execution_count": null,
      "outputs": []
    },
    {
      "cell_type": "code",
      "source": [
        "#5. Dont separate the varaible with white spaces instead use the _\n",
        "son age = 20\n",
        "print(son age)"
      ],
      "metadata": {
        "colab": {
          "base_uri": "https://localhost:8080/"
        },
        "id": "7pyfue7PjnK2",
        "outputId": "5a8133e7-3680-4d25-bd69-cc9f02ab669b"
      },
      "execution_count": null,
      "outputs": [
        {
          "output_type": "stream",
          "name": "stdout",
          "text": [
            "20\n"
          ]
        }
      ]
    },
    {
      "cell_type": "code",
      "source": [
        "#6. start creating the varaible by using underscore (_)\n",
        "_ = \"hello\"\n",
        "print(_)"
      ],
      "metadata": {
        "colab": {
          "base_uri": "https://localhost:8080/"
        },
        "id": "iLZIjnbVjxHA",
        "outputId": "e707d472-e187-45d3-ecb8-bf6191d76c3d"
      },
      "execution_count": null,
      "outputs": [
        {
          "output_type": "stream",
          "name": "stdout",
          "text": [
            "hello\n"
          ]
        }
      ]
    },
    {
      "cell_type": "code",
      "source": [
        "#7. don't use the uppercase letters as a varaible name\n",
        "son_age = 20"
      ],
      "metadata": {
        "id": "3OP1VWc8kDjN"
      },
      "execution_count": null,
      "outputs": []
    },
    {
      "cell_type": "code",
      "source": [
        "#we cannot use the keyword means inbuilt words\n",
        "import keyword\n",
        "print(keyword.kwlist)"
      ],
      "metadata": {
        "colab": {
          "base_uri": "https://localhost:8080/"
        },
        "id": "mcEymcsmkRt-",
        "outputId": "d16cdcc6-91f8-4511-e5ee-55d3eaf2c511"
      },
      "execution_count": null,
      "outputs": [
        {
          "output_type": "stream",
          "name": "stdout",
          "text": [
            "['False', 'None', 'True', 'and', 'as', 'assert', 'async', 'await', 'break', 'class', 'continue', 'def', 'del', 'elif', 'else', 'except', 'finally', 'for', 'from', 'global', 'if', 'import', 'in', 'is', 'lambda', 'nonlocal', 'not', 'or', 'pass', 'raise', 'return', 'try', 'while', 'with', 'yield']\n"
          ]
        }
      ]
    },
    {
      "cell_type": "markdown",
      "source": [
        "**smart ways of writing the varaibles**"
      ],
      "metadata": {
        "id": "4TJpfGiZk72q"
      }
    },
    {
      "cell_type": "code",
      "source": [
        "#assign multiple values to multiple varaibles and print in a seprate line\n",
        "#hint:- take 3 varaible and assign 3 values\n",
        "a = 10\n",
        "b = 5\n",
        "c = 20\n",
        "print(a)\n",
        "print(b)\n",
        "print(c)"
      ],
      "metadata": {
        "id": "q9RmrG2_k_g4"
      },
      "execution_count": null,
      "outputs": []
    },
    {
      "cell_type": "code",
      "source": [
        "a,b,c = 10,5,20\n",
        "print(a,b,c, sep='\\n')"
      ],
      "metadata": {
        "id": "ANRB8yHTlYOl"
      },
      "execution_count": null,
      "outputs": []
    },
    {
      "cell_type": "code",
      "source": [
        "#assign the same value to the multiple varaibles\n",
        "#hint:- take 3 varaible and assign smae values\n",
        "a = 10\n",
        "b = 10\n",
        "c = 10\n",
        "print(a,b,c,sep=\"\\n\")"
      ],
      "metadata": {
        "id": "ycCUbejOlmmc"
      },
      "execution_count": null,
      "outputs": []
    },
    {
      "cell_type": "code",
      "source": [
        "a = b = c = 10\n",
        "print(a,b,c,sep='\\n')"
      ],
      "metadata": {
        "id": "um6TqAi-l4Ln"
      },
      "execution_count": null,
      "outputs": []
    },
    {
      "cell_type": "code",
      "source": [
        "#Input()\n",
        "#strings()"
      ],
      "metadata": {
        "id": "4Nb-bsB-mHQh"
      },
      "execution_count": null,
      "outputs": []
    },
    {
      "cell_type": "code",
      "source": [
        "print(10 + 5)\n",
        "a = 10\n",
        "b = 5\n",
        "print(a+b)"
      ],
      "metadata": {
        "id": "smiATLz1f_Hw"
      },
      "execution_count": null,
      "outputs": []
    },
    {
      "cell_type": "code",
      "source": [
        "print(a-b)"
      ],
      "metadata": {
        "id": "QI3EUOaRgPBc"
      },
      "execution_count": null,
      "outputs": []
    },
    {
      "cell_type": "markdown",
      "source": [
        "**11-12-2024**"
      ],
      "metadata": {
        "id": "dPqy7JHPgTCY"
      }
    },
    {
      "cell_type": "code",
      "source": [
        "#take two varaibles and apply all the arthametic operations\n",
        "a = 10\n",
        "b = 5\n",
        "print(a+b)\n",
        "print(a-b)\n",
        "print(a*b)\n",
        "print(a/b)\n",
        "print(a%b)\n",
        "print(a**b)\n",
        "print(a//b)"
      ],
      "metadata": {
        "id": "TnqTOZbZgWAr"
      },
      "execution_count": null,
      "outputs": []
    },
    {
      "cell_type": "code",
      "source": [
        "# 20,56\n",
        "a = 20\n",
        "b = 56\n",
        "print(a+b)\n",
        "print(a-b)\n",
        "print(a*b)\n",
        "print(a/b)\n",
        "print(a%b)\n",
        "print(a**b)\n",
        "print(a//b)"
      ],
      "metadata": {
        "id": "5NKR7-k_hCJs"
      },
      "execution_count": null,
      "outputs": []
    },
    {
      "cell_type": "markdown",
      "source": [
        "**Input()**"
      ],
      "metadata": {
        "id": "JcSPfSmAhU4h"
      }
    },
    {
      "cell_type": "code",
      "source": [
        "#what is input()?\n",
        "#it is an inbuilt function where it takes any information from the user and store it"
      ],
      "metadata": {
        "id": "zqPekqvXhhAC"
      },
      "execution_count": null,
      "outputs": []
    },
    {
      "cell_type": "code",
      "source": [
        "a = input(\"enter your mobile: \")\n",
        "print(a)\n",
        "print(type(a))"
      ],
      "metadata": {
        "colab": {
          "base_uri": "https://localhost:8080/"
        },
        "id": "8PI1h4Ilh2AH",
        "outputId": "20618228-9002-46ec-b75f-5526d2ef5e5b"
      },
      "execution_count": null,
      "outputs": [
        {
          "output_type": "stream",
          "name": "stdout",
          "text": [
            "enter your mobile: 9470837876439286\n",
            "9470837876439286\n",
            "<class 'str'>\n"
          ]
        }
      ]
    },
    {
      "cell_type": "code",
      "source": [
        "#what is default data type for input()?\n",
        "#string\n",
        "#why the default data type for input() is string?\n",
        "\"\"\"Because the user dont know what type of information is going to enter, The function has\n",
        "to be in such a way where it can takes any kind of information and store it, so the data type or\n",
        "class which can accepts any information is \"strings\"  \"\"\""
      ],
      "metadata": {
        "id": "3BWL9tJ_iafA"
      },
      "execution_count": null,
      "outputs": []
    },
    {
      "cell_type": "code",
      "source": [
        "#How can we deal with numerical data when we use input()?\n",
        "#we need to mention the numerical data type before input()\n",
        "a = int(input(\"enter the number\"))\n",
        "b = int(input(\"enter the number\"))\n",
        "print(a+b)\n",
        "print(a-b)\n",
        "print(a*b)\n",
        "print(a/b)\n",
        "print(a%b)\n",
        "print(a**b)\n",
        "print(a//b)"
      ],
      "metadata": {
        "id": "mMDmzaKbl7vt"
      },
      "execution_count": null,
      "outputs": []
    },
    {
      "cell_type": "code",
      "source": [
        "a = float(input(\"enter the number\"))\n",
        "b = float(input(\"enter the number\"))\n",
        "print(a+b)\n",
        "print(a-b)"
      ],
      "metadata": {
        "colab": {
          "base_uri": "https://localhost:8080/"
        },
        "id": "Loj-Kp6HmjDs",
        "outputId": "85970230-8ff0-481a-fab9-7c41d70ad92e"
      },
      "execution_count": null,
      "outputs": [
        {
          "output_type": "stream",
          "name": "stdout",
          "text": [
            "enter the number3254835.9876\n",
            "enter the number16352.734686\n",
            "3271188.722286\n",
            "3238483.2529140003\n"
          ]
        }
      ]
    },
    {
      "cell_type": "markdown",
      "source": [
        "#Strings"
      ],
      "metadata": {
        "id": "RdTCG5CSoEvx"
      }
    },
    {
      "cell_type": "code",
      "source": [
        "#What is string?\n",
        "#its a collection of multiple characters written inside the ('single quotes') or double quotes (\"\")\n",
        "#How can we declare a string?\n",
        "#('single quotes') or double quotes (\"\")"
      ],
      "metadata": {
        "id": "rg2eVR-SoHCn"
      },
      "execution_count": null,
      "outputs": []
    },
    {
      "cell_type": "code",
      "source": [
        "print(\"Hello Wolrd!\")\n",
        "print(type('Hello World!'))"
      ],
      "metadata": {
        "id": "gsntFxaSobQe"
      },
      "execution_count": null,
      "outputs": []
    },
    {
      "cell_type": "code",
      "source": [
        "#how many types of strings?\n",
        "#two types\n",
        "#single line string---> (' ') or (\" \")\n",
        "#Multline line string--->(\"\"\" \"\"\") or (''' ''')"
      ],
      "metadata": {
        "id": "4uxnZZG1ozv7"
      },
      "execution_count": null,
      "outputs": []
    },
    {
      "cell_type": "code",
      "source": [
        "a = \"\"\"Hi Team\n",
        "       Good Day!\n",
        "       Today we are discussing about strings\n",
        "       i am writing multiline string! \"\"\"\n",
        "print(a)\n"
      ],
      "metadata": {
        "id": "B_mhU25cpZss"
      },
      "execution_count": null,
      "outputs": []
    },
    {
      "cell_type": "code",
      "source": [
        "#Note:- a string is a collection multiple characters where each character can be accessible (or) printable\n",
        "#How can we access the characters from string?\n",
        "#By using \"Indexing\" and slicing operator we access the characters from string\n",
        "#what is indexing?\n",
        "#positional number of each character in the string\n",
        "#indexing starts from zero\n",
        "a = \"Hello World!\"\n",
        "#access or print only \"e\" from above string\n",
        "#[index_number]\n",
        "print(a[1])\n",
        "#access or print only \"r\" from above string\n",
        "print(a[8])\n",
        "#print the \"Hello world!\" in seprate lines"
      ],
      "metadata": {
        "id": "byE_y9yBpx8o"
      },
      "execution_count": null,
      "outputs": []
    },
    {
      "cell_type": "code",
      "source": [
        "#what is substrings?\n",
        "#getting a part of string from main string is known as sub-strings"
      ],
      "metadata": {
        "id": "mbiSx0s3sZ-d"
      },
      "execution_count": null,
      "outputs": []
    },
    {
      "cell_type": "code",
      "source": [
        "a = \"Hello World!\"\n",
        "##access or print \"ello\" from above string\n",
        "#[start_index:end_index]\n",
        "#Note: end index position is always--> n+1\n",
        "print(a[1:5])\n",
        "##access or print \"world!\" from above string\n",
        "print(a[6:12])\n",
        "b = \"Good after-noon!\"\n",
        "#access or print \"d after-\" from above string\n",
        "print(b[3:11])"
      ],
      "metadata": {
        "id": "AjzH6AhRsrGB"
      },
      "execution_count": null,
      "outputs": []
    },
    {
      "cell_type": "code",
      "source": [
        "#len()--> it returns the total count of characters in the string\n",
        "#len() starts from 1\n",
        "print(len(b))\n",
        "#find the end or last index position numbers\n",
        "print(len(b)-1)\n",
        "#print the last character of string b\n",
        "print(b[15])"
      ],
      "metadata": {
        "id": "MxxvBibzuQS6"
      },
      "execution_count": null,
      "outputs": []
    },
    {
      "cell_type": "code",
      "source": [
        "a = int(input()) # '10'\n",
        "b = int(input()) # '15'\n",
        "print(a+b)"
      ],
      "metadata": {
        "id": "8VhmovfNpY1V"
      },
      "execution_count": null,
      "outputs": []
    },
    {
      "cell_type": "markdown",
      "source": [
        "**12-12-2024**"
      ],
      "metadata": {
        "id": "YssJDkH7qCCe"
      }
    },
    {
      "cell_type": "code",
      "source": [
        "#what is a string?\n",
        "#string is a sequence of multiple characters where each charcter is accessible or printable"
      ],
      "metadata": {
        "id": "OATkhtJRpwrJ"
      },
      "execution_count": null,
      "outputs": []
    },
    {
      "cell_type": "code",
      "source": [
        "#How can we access charcters in string?\n",
        "#By using indexing and slicing operator"
      ],
      "metadata": {
        "id": "rPqvfQDzqW4l"
      },
      "execution_count": null,
      "outputs": []
    },
    {
      "cell_type": "code",
      "source": [
        "#what is slicing?\n",
        "#getting a range of characters from the string\n",
        "#slicing operator is denoted with----> []"
      ],
      "metadata": {
        "id": "uIn_sTd0rAd4"
      },
      "execution_count": null,
      "outputs": []
    },
    {
      "cell_type": "code",
      "source": [
        "#[index_position number]\n",
        "a = \"Hello world!\"\n",
        "#print 'r' from the above string\n",
        "print(a[8])"
      ],
      "metadata": {
        "id": "6QufZEqprSDz"
      },
      "execution_count": null,
      "outputs": []
    },
    {
      "cell_type": "code",
      "source": [
        "#[start:end_index]----> end is always -->n+1\n",
        "print(a[0:6])"
      ],
      "metadata": {
        "colab": {
          "base_uri": "https://localhost:8080/"
        },
        "id": "fuWisO77rlV9",
        "outputId": "8798992c-e5cb-46be-c479-4799280d6f1a"
      },
      "execution_count": null,
      "outputs": [
        {
          "output_type": "stream",
          "name": "stdout",
          "text": [
            "Hello \n"
          ]
        }
      ]
    },
    {
      "cell_type": "code",
      "source": [
        "#print the even index position of the string characters\n",
        "#[start:end:step]\n",
        "print(a[0:12:2])\n",
        "#print the odd index position characters?\n",
        "#print(a[0:12:1])\n",
        "print(a[1:12:2])"
      ],
      "metadata": {
        "id": "MUenCCgysBAX"
      },
      "execution_count": null,
      "outputs": []
    },
    {
      "cell_type": "code",
      "source": [
        "#How can we find the len() of string?\n",
        "#by using len() -->counts the total number of characters in the string\n",
        "print(len(a))"
      ],
      "metadata": {
        "id": "5WuXdCvrtWm0"
      },
      "execution_count": null,
      "outputs": []
    },
    {
      "cell_type": "code",
      "source": [
        "#print  or access the last character from the string?\n",
        "#find the index position of last character?\n",
        "print(len(a)-1)\n",
        "print(a[11])"
      ],
      "metadata": {
        "colab": {
          "base_uri": "https://localhost:8080/"
        },
        "id": "4GYLB6Waut_V",
        "outputId": "c20463af-b0cf-4933-a0c7-52bb4741d05a"
      },
      "execution_count": null,
      "outputs": [
        {
          "output_type": "stream",
          "name": "stdout",
          "text": [
            "11\n",
            "!\n"
          ]
        }
      ]
    },
    {
      "cell_type": "markdown",
      "source": [
        "**Negative Indexing**"
      ],
      "metadata": {
        "id": "3SxgSor0utX6"
      }
    },
    {
      "cell_type": "code",
      "source": [
        "#what is negative indexing?\n",
        "#accessing the elements from reverse direction is know as negative indexing\n",
        "#Negative indexing starts from -1\n",
        "b = \"Hello World!\"\n",
        "#print(b[-1])\n",
        "#can we print a range of charcetrs in reverse by suing -ve indexing\n",
        "#slicng is by default from left right direction\n",
        "print(b[-1:-7:-1])"
      ],
      "metadata": {
        "colab": {
          "base_uri": "https://localhost:8080/"
        },
        "id": "q09B_2USvnC6",
        "outputId": "c229a6e0-e055-442a-f289-5e0551f0f882"
      },
      "execution_count": null,
      "outputs": [
        {
          "output_type": "stream",
          "name": "stdout",
          "text": [
            "!dlroW\n"
          ]
        }
      ]
    },
    {
      "cell_type": "code",
      "source": [
        "print(b[-7:-1])"
      ],
      "metadata": {
        "colab": {
          "base_uri": "https://localhost:8080/"
        },
        "id": "TbQx3knMyNf3",
        "outputId": "4c5988d0-d44b-4751-8979-febb2d9e60df"
      },
      "execution_count": null,
      "outputs": [
        {
          "output_type": "stream",
          "name": "stdout",
          "text": [
            " World\n"
          ]
        }
      ]
    },
    {
      "cell_type": "markdown",
      "source": [
        "**default indexing**"
      ],
      "metadata": {
        "id": "HhyeDVOGy8pH"
      }
    },
    {
      "cell_type": "code",
      "source": [
        "c = \"Hello World!\"\n",
        "print(c[:])\n",
        "#By default [start can be 0:end is len(str)]\n",
        "#[start:end:step]\n",
        "#[0:len(str):1]\n",
        "print(c[::])"
      ],
      "metadata": {
        "id": "P9o8Zw3qzEx4"
      },
      "execution_count": null,
      "outputs": []
    },
    {
      "cell_type": "code",
      "source": [
        "#print the even characters from entire string\n",
        "print(a[0:12:2])\n",
        "print(c[::2])\n",
        "print(a[1:12:2]) #odd position\n",
        "print(c[1::2])"
      ],
      "metadata": {
        "id": "QF41XtqUzudJ"
      },
      "execution_count": null,
      "outputs": []
    },
    {
      "cell_type": "code",
      "source": [
        "#reverse \"Hello world!\"\n",
        "print(c[::1])\n",
        "print(c[::-1])"
      ],
      "metadata": {
        "id": "_TV0eC0V0J05"
      },
      "execution_count": null,
      "outputs": []
    },
    {
      "cell_type": "code",
      "source": [
        "#print the string is palindrome or not\n",
        "#mom, madam, hyderabad, malayalam\n",
        "a = input(\"enter your string: \")\n",
        "print(a[::-1])"
      ],
      "metadata": {
        "id": "rxppWnUT0buJ"
      },
      "execution_count": null,
      "outputs": []
    },
    {
      "cell_type": "code",
      "source": [
        "print(c[0:5])\n",
        "print(c[0:5][1:2])"
      ],
      "metadata": {
        "id": "0Pgxliqb1IS9"
      },
      "execution_count": null,
      "outputs": []
    },
    {
      "cell_type": "code",
      "source": [
        "a = \"Hello world!\"\n",
        "print(a[-1:-6:1])"
      ],
      "metadata": {
        "id": "P4fYsdAu4z68"
      },
      "execution_count": null,
      "outputs": []
    },
    {
      "cell_type": "markdown",
      "source": [
        "**string methods**"
      ],
      "metadata": {
        "id": "TrLLSSLV5PII"
      }
    },
    {
      "cell_type": "code",
      "source": [
        "#The methods that can be applied on the string is know as string methods\n",
        "#what are methods we can apply on string?\n",
        "#By using 'dir()' we can find out what are all methods we can apply on strings\n",
        "d = \"hello world!\"\n",
        "print(type(d))\n",
        "print(dir(d))"
      ],
      "metadata": {
        "colab": {
          "base_uri": "https://localhost:8080/"
        },
        "id": "FkEoUl-K54Jr",
        "outputId": "f3871d4b-6813-41d7-ad4c-6dcd8e203609"
      },
      "execution_count": null,
      "outputs": [
        {
          "output_type": "stream",
          "name": "stdout",
          "text": [
            "<class 'str'>\n",
            "['__add__', '__class__', '__contains__', '__delattr__', '__dir__', '__doc__', '__eq__', '__format__', '__ge__', '__getattribute__', '__getitem__', '__getnewargs__', '__gt__', '__hash__', '__init__', '__init_subclass__', '__iter__', '__le__', '__len__', '__lt__', '__mod__', '__mul__', '__ne__', '__new__', '__reduce__', '__reduce_ex__', '__repr__', '__rmod__', '__rmul__', '__setattr__', '__sizeof__', '__str__', '__subclasshook__', 'capitalize', 'casefold', 'center', 'count', 'encode', 'endswith', 'expandtabs', 'find', 'format', 'format_map', 'index', 'isalnum', 'isalpha', 'isascii', 'isdecimal', 'isdigit', 'isidentifier', 'islower', 'isnumeric', 'isprintable', 'isspace', 'istitle', 'isupper', 'join', 'ljust', 'lower', 'lstrip', 'maketrans', 'partition', 'removeprefix', 'removesuffix', 'replace', 'rfind', 'rindex', 'rjust', 'rpartition', 'rsplit', 'rstrip', 'split', 'splitlines', 'startswith', 'strip', 'swapcase', 'title', 'translate', 'upper', 'zfill']\n"
          ]
        }
      ]
    },
    {
      "cell_type": "code",
      "source": [
        "\"\"\" 'capitalize', 'casefold', 'center', 'count', 'encode', 'endswith',\n",
        "'expandtabs', 'find', 'format', 'format_map', 'index', 'isalnum',\n",
        "'isalpha', 'isascii', 'isdecimal', 'isdigit', 'isidentifier',\n",
        "'islower', 'isnumeric', 'isprintable', 'isspace', 'istitle',\n",
        " 'isupper', 'join', 'ljust', 'lower', 'lstrip', 'maketrans',\n",
        " 'partition', 'removeprefix', 'removesuffix', 'replace',\n",
        "'rfind', 'rindex', 'rjust', 'rpartition', 'rsplit', 'rstrip',\n",
        "'split', 'splitlines', 'startswith', 'strip', 'swapcase', 'title', 'translate', 'upper', 'zfill' \"\"\""
      ],
      "metadata": {
        "id": "kHKRSo0e6eYL"
      },
      "execution_count": null,
      "outputs": []
    },
    {
      "cell_type": "code",
      "source": [
        "#upper and lower()\n",
        "print(d.lower())\n",
        "print(d.upper())"
      ],
      "metadata": {
        "id": "WxncS1fY6nGU"
      },
      "execution_count": null,
      "outputs": []
    },
    {
      "cell_type": "code",
      "source": [
        "#capitalize\n",
        "print(d.capitalize())"
      ],
      "metadata": {
        "colab": {
          "base_uri": "https://localhost:8080/"
        },
        "id": "tK7znYjr6xK0",
        "outputId": "0318b64a-a66b-4726-a538-18f0df0ad02d"
      },
      "execution_count": null,
      "outputs": [
        {
          "output_type": "stream",
          "name": "stdout",
          "text": [
            "Hello world!\n"
          ]
        }
      ]
    },
    {
      "cell_type": "code",
      "source": [
        "#Title\n",
        "print(d.title())"
      ],
      "metadata": {
        "id": "mCRg_MMV63nL"
      },
      "execution_count": null,
      "outputs": []
    },
    {
      "cell_type": "code",
      "source": [
        "#replace('old strind', 'newstring')\n",
        "#in Hello world replace the \"world\" with universe\n",
        "print(d.replace('world','universe'))"
      ],
      "metadata": {
        "colab": {
          "base_uri": "https://localhost:8080/"
        },
        "id": "3cArC_ex7Bet",
        "outputId": "239f0427-7ab8-4e44-b5a8-ca1033e57dbb"
      },
      "execution_count": null,
      "outputs": [
        {
          "output_type": "stream",
          "name": "stdout",
          "text": [
            "hello universe!\n"
          ]
        }
      ]
    },
    {
      "cell_type": "markdown",
      "source": [
        "**18-12-2024**\n",
        "\n",
        "**Conditional Statements**"
      ],
      "metadata": {
        "id": "EQA_Ok5xg0Vp"
      }
    },
    {
      "cell_type": "code",
      "source": [
        "#what is purpose of of conditional statement?\n",
        "#The purpose conditional statement is to check weather the condition is true or false\n",
        "#what are all conditional statements do we have in python?\n",
        "# 1)if\n",
        "# 2)elif\n",
        "# 3)else"
      ],
      "metadata": {
        "id": "0LCnSxNgg8jx"
      },
      "execution_count": null,
      "outputs": []
    },
    {
      "cell_type": "code",
      "source": [
        "#How we are going to check the condition?\n",
        "#By using the relational operators or comaprision operators\n",
        "#There 6 types of comparison operators\n",
        "\"\"\" 1. equals to ---> ==\n",
        "    2. Not equals to---> !=\n",
        "    3. greater than -->   >\n",
        "    4. less than --->     <\n",
        "    5. greater than equal to---> >=\n",
        "    6. less than equal to----> <=  \"\"\""
      ],
      "metadata": {
        "id": "e6j10vBthZ8u"
      },
      "execution_count": null,
      "outputs": []
    },
    {
      "cell_type": "code",
      "source": [
        "#write a python program to print the student is pass or fail?\n",
        "a = int(input(\"enter your marks: \"))\n",
        "if a>=45:\n",
        "  print(\"congrats you are pass\")\n",
        "  print(\"you have recived\",a)\n",
        "else:\n",
        "  print(\"Better luck next time\")\n",
        "  print(\"you have recived\", a)"
      ],
      "metadata": {
        "id": "PVM6JjoTiKl_"
      },
      "execution_count": null,
      "outputs": []
    },
    {
      "cell_type": "code",
      "source": [
        "#write program to print weather the given number is +ve, or -ve if it is 0 means print neutral\n",
        "#if --->elif-->else\n",
        "b = int(input(\"enter the number\"))\n",
        "if b >0:\n",
        "  print(\"+ve\")\n",
        "elif b == 0:\n",
        "  print(\"neutral\")\n",
        "else:\n",
        "  print(\"-ve\")"
      ],
      "metadata": {
        "colab": {
          "base_uri": "https://localhost:8080/"
        },
        "id": "0bXkk5tdkaAM",
        "outputId": "4cbf5dcc-5839-4678-bc7a-2db64d113495"
      },
      "execution_count": null,
      "outputs": [
        {
          "output_type": "stream",
          "name": "stdout",
          "text": [
            "enter the number56\n",
            "+ve\n"
          ]
        }
      ]
    },
    {
      "cell_type": "markdown",
      "source": [
        "**Logical Operatprs**"
      ],
      "metadata": {
        "id": "UVhrinYsna_C"
      }
    },
    {
      "cell_type": "code",
      "source": [
        "#1. AND:- when all the conditions are true then only the program can be executed\n",
        "#2. Or:- if any one condition is satisfied the program can be executed\n",
        "#3. Not:- it reverse your actual output\n",
        "a = 40\n",
        "b = 20\n",
        "c = 100\n",
        "d = 15\n",
        "#check that a is greater than  b and b > d and c > a\n",
        "#if conditions satisfied print all the conditions satisfied\n",
        "if a>b and b>d and c<a:\n",
        "  print('all the conditions satisfied')\n",
        "else:\n",
        "  print('any one condition is satisfied')"
      ],
      "metadata": {
        "colab": {
          "base_uri": "https://localhost:8080/"
        },
        "id": "U-4r9WQRndkv",
        "outputId": "66c3ac11-c5ac-4e69-b9f9-00d2f51a3a6a"
      },
      "execution_count": null,
      "outputs": [
        {
          "output_type": "stream",
          "name": "stdout",
          "text": [
            "any one condition is satisfied\n"
          ]
        }
      ]
    },
    {
      "cell_type": "code",
      "source": [
        "print(10 == 10)\n",
        "print(10 != 10)\n",
        "print(10 > 10)\n",
        "print(10 < 10)\n",
        "print(10 >= 10)\n",
        "print(10 <= 10)"
      ],
      "metadata": {
        "id": "9DNRcibYpnP3"
      },
      "execution_count": null,
      "outputs": []
    },
    {
      "cell_type": "code",
      "source": [
        "a = 40\n",
        "b = 20\n",
        "c = 100\n",
        "d = 15\n",
        "#check that a is less than  b and b < d and c > a\n",
        "#if conditions satisfied print  the conditions satisfied\n",
        "if a<b and b<d and c>a:\n",
        "  print('the conditions satisfied')\n",
        "else:\n",
        "  print('all the condition is not satisfied')"
      ],
      "metadata": {
        "id": "ENO74UfMrQ4r"
      },
      "execution_count": null,
      "outputs": []
    },
    {
      "cell_type": "code",
      "source": [
        "print(10 == 10)\n",
        "print(not(10 == 10))"
      ],
      "metadata": {
        "colab": {
          "base_uri": "https://localhost:8080/"
        },
        "id": "y77R9tfLr7tp",
        "outputId": "d89c18e0-f34d-420c-df12-bc348d81709b"
      },
      "execution_count": null,
      "outputs": [
        {
          "output_type": "stream",
          "name": "stdout",
          "text": [
            "True\n",
            "False\n"
          ]
        }
      ]
    },
    {
      "cell_type": "code",
      "source": [
        "#write a program to print the user is eligible for adventure ride or not\n",
        "# if the age is less than 12 print(\"your not eligible and check for other rides\")\n",
        "# if age is between 12 to 45 print(\"your eligible for ride\")\n",
        "# if age is more than 40 print(\"look for another ride it is too risky\")\n",
        "# else you can print your not eligible to the ride"
      ],
      "metadata": {
        "id": "EJeQEN4Ks-wx"
      },
      "execution_count": null,
      "outputs": []
    },
    {
      "cell_type": "markdown",
      "source": [
        "**Nested conditions**"
      ],
      "metadata": {
        "id": "XScZ4RzDut5Z"
      }
    },
    {
      "cell_type": "code",
      "source": [
        "#what is nested condition and what is the purpose of nested condition?\n",
        "#writing a condition inside the another condition is known as nested condition\n",
        "#writing a if condition inside the another if condition is known as nested condition\n",
        "#check up to what extend the 45 is gretaer than 10 20 30\n",
        "a = 5\n",
        "if a> 10:\n",
        "  print(\"a is greater than 10\")\n",
        "  if a>20:\n",
        "    print(\"a is greater than 20\")\n",
        "    if a>30:\n",
        "      print(\"a is greater than 30\")\n",
        "      if a>40:\n",
        "        print(\"a is greater than 40\")\n",
        "        if a>50:\n",
        "          print(\"a is greater than  50\")\n",
        "        else:\n",
        "          print(\"a is less than 50\")\n",
        "      else:\n",
        "        print(\"less than 40\")\n",
        "    else:\n",
        "      print(\" ais less than 30\")\n",
        "  else:\n",
        "    print(\"a is less than 20\")\n",
        "else:\n",
        "  print(\"a is less than 10\")"
      ],
      "metadata": {
        "colab": {
          "base_uri": "https://localhost:8080/"
        },
        "id": "FRZplZEmuwl9",
        "outputId": "116bf67c-e381-4e37-ff50-a05721aea1b2"
      },
      "execution_count": null,
      "outputs": [
        {
          "output_type": "stream",
          "name": "stdout",
          "text": [
            "a is less than 10\n"
          ]
        }
      ]
    },
    {
      "cell_type": "markdown",
      "source": [
        "**19-12-2024**"
      ],
      "metadata": {
        "id": "NxSAjcictuc2"
      }
    },
    {
      "cell_type": "code",
      "source": [
        "#pass:- is an null place holder when you executes nothing will happen\n",
        "#check the given number is even or odd?\n",
        "a = int(input(\"enter the number:\"))\n",
        "if a%2==0:\n",
        "  print('even')\n",
        "else:\n",
        "  pass"
      ],
      "metadata": {
        "id": "bISd0qGAx4wc",
        "colab": {
          "base_uri": "https://localhost:8080/"
        },
        "outputId": "17ad8732-6f38-416c-c291-2d94bdd878da"
      },
      "execution_count": null,
      "outputs": [
        {
          "output_type": "stream",
          "name": "stdout",
          "text": [
            "enter the number:10\n",
            "even\n"
          ]
        }
      ]
    },
    {
      "cell_type": "markdown",
      "source": [
        "#Revision\n",
        "\n",
        "1. What is Python?\n",
        "\n",
        "most emerging ,genral purpose, highlevel fynamically typed , OOP's, interpreted programming language\n",
        "\n",
        "2. why comments are important?\n",
        "\n",
        "for better understanding purpose we use comment\n",
        "\n",
        "there 2 types of comments\n",
        "\n",
        "1. single line comment----> #\n",
        "2. multiline comment--->  \"\"\" \"\"\" or ''' '''\n",
        "\n",
        "3. how many types of numerical dtypes?\n",
        "\n",
        "     1. integer\n",
        "     2. float\n",
        "     3. complex number--->    2+5j\n",
        "\n",
        "4. arthametic operators---> 7types\n",
        "\n",
        "   --> +,-,*,/,%,**(exponenetial or tothe power off),//(floor division)\n",
        "\n",
        "5. round()--->round() can be applicable for decimal number or float data types\n",
        "\n",
        "6. Variable--> is acontiner where we can store our valuable information\n",
        "\n",
        "      -->Rules\n",
        "\n",
        "\n",
        " 7. INPUT():- is a inbuilt function used to store any kind of information from user\n",
        "\n",
        "         --> the default dtype of input is string\n",
        "\n",
        "\n",
        " 8. what is an string?\n",
        "\n",
        "         --> string is sequence of characters where each character can be accessible   \n",
        "         how can we access the characters?\n",
        "         --> By using indexing and slicing operator---> []\n",
        "         what is indexing?\n",
        "         --> positional number of each character\n",
        "         --> string is ordered--> the characters is having the\n",
        "         sequence of index position numbers\n",
        "\n",
        "  9. what is an object oriented programming language?--->oop's\n",
        "\n",
        "--> In python each line of code is having its own \"identity\",\"properties\", \"methods of interaction\"          \n",
        "\n"
      ],
      "metadata": {
        "id": "mSvSIotZwANU"
      }
    },
    {
      "cell_type": "code",
      "source": [
        "print(10/3)\n",
        "print(10//3)"
      ],
      "metadata": {
        "colab": {
          "base_uri": "https://localhost:8080/"
        },
        "id": "cwdrQtRcv_ri",
        "outputId": "e4d4d9ac-3649-4f08-d5f0-b88fe3ffd671"
      },
      "execution_count": null,
      "outputs": [
        {
          "output_type": "stream",
          "name": "stdout",
          "text": [
            "3.3333333333333335\n",
            "3\n"
          ]
        }
      ]
    },
    {
      "cell_type": "code",
      "source": [
        "print(round(3.554789,2))\n",
        "#the count decimal numbers after the decimal point is known as ndigits"
      ],
      "metadata": {
        "colab": {
          "base_uri": "https://localhost:8080/"
        },
        "id": "a4e7LJqZyfK1",
        "outputId": "9afdfabf-a1d3-4f0a-b7af-f679cee30a1a"
      },
      "execution_count": null,
      "outputs": [
        {
          "output_type": "stream",
          "name": "stdout",
          "text": [
            "3.55\n"
          ]
        }
      ]
    },
    {
      "cell_type": "code",
      "source": [
        "_ = \"hel36346573@%43lo\""
      ],
      "metadata": {
        "id": "sBGf-cRCzB7a"
      },
      "execution_count": null,
      "outputs": []
    },
    {
      "cell_type": "code",
      "source": [
        "a = input(\"enter number: \")\n",
        "print(a)\n",
        "print(type(a))"
      ],
      "metadata": {
        "id": "QLofKI5DzzXG",
        "colab": {
          "base_uri": "https://localhost:8080/"
        },
        "outputId": "e95c8c27-5f43-41b0-90e4-be085ec2f232"
      },
      "execution_count": null,
      "outputs": [
        {
          "output_type": "stream",
          "name": "stdout",
          "text": [
            "enter number: dne\n",
            "dne\n",
            "<class 'str'>\n"
          ]
        }
      ]
    },
    {
      "cell_type": "code",
      "source": [
        "a = \"Hello\"\n",
        "print(a[4])\n",
        "print(a[-1])\n",
        "print(dir(a))\n",
        "print(a.lower())\n",
        "print(a.upper())\n",
        "print(a.replace('Hello','Hi'))"
      ],
      "metadata": {
        "id": "iWknyNLy0pdl",
        "colab": {
          "base_uri": "https://localhost:8080/"
        },
        "outputId": "ff529551-e8af-4100-9d55-2478fcb0f7c6"
      },
      "execution_count": null,
      "outputs": [
        {
          "output_type": "stream",
          "name": "stdout",
          "text": [
            "o\n",
            "o\n",
            "['__add__', '__class__', '__contains__', '__delattr__', '__dir__', '__doc__', '__eq__', '__format__', '__ge__', '__getattribute__', '__getitem__', '__getnewargs__', '__gt__', '__hash__', '__init__', '__init_subclass__', '__iter__', '__le__', '__len__', '__lt__', '__mod__', '__mul__', '__ne__', '__new__', '__reduce__', '__reduce_ex__', '__repr__', '__rmod__', '__rmul__', '__setattr__', '__sizeof__', '__str__', '__subclasshook__', 'capitalize', 'casefold', 'center', 'count', 'encode', 'endswith', 'expandtabs', 'find', 'format', 'format_map', 'index', 'isalnum', 'isalpha', 'isascii', 'isdecimal', 'isdigit', 'isidentifier', 'islower', 'isnumeric', 'isprintable', 'isspace', 'istitle', 'isupper', 'join', 'ljust', 'lower', 'lstrip', 'maketrans', 'partition', 'removeprefix', 'removesuffix', 'replace', 'rfind', 'rindex', 'rjust', 'rpartition', 'rsplit', 'rstrip', 'split', 'splitlines', 'startswith', 'strip', 'swapcase', 'title', 'translate', 'upper', 'zfill']\n",
            "hello\n",
            "HELLO\n",
            "Hi\n"
          ]
        }
      ]
    },
    {
      "cell_type": "markdown",
      "source": [
        "**String Formatting method**"
      ],
      "metadata": {
        "id": "Dams3Oi72ovE"
      }
    },
    {
      "cell_type": "code",
      "source": [
        "#what is a string formatting method?\n",
        "#it takes an argument and place over place-holder-->{}\n",
        "age = 10\n",
        "txt = f\"I am {age} years old\"  #f'string formatting {method}'\n",
        "print(txt)"
      ],
      "metadata": {
        "colab": {
          "base_uri": "https://localhost:8080/"
        },
        "id": "yNNRELbN2tiz",
        "outputId": "7bab06b6-0479-4041-8df8-b7935381708d"
      },
      "execution_count": null,
      "outputs": [
        {
          "output_type": "stream",
          "name": "stdout",
          "text": [
            "I am 10 years old\n"
          ]
        }
      ]
    },
    {
      "cell_type": "code",
      "source": [
        "item = input(\"enter item name: \")\n",
        "price_each = int(input(\"enter price: \"))\n",
        "quantity = int(input(\"enter the total quantity \"))\n",
        "Notification = f\"your order for {item}, has been confirmed, with an quantity of {quantity} and Total price {price_each*quantity}\"\n",
        "print(Notification)"
      ],
      "metadata": {
        "colab": {
          "base_uri": "https://localhost:8080/",
          "height": 245
        },
        "id": "NPQ-QJyS3S56",
        "outputId": "de90b53f-fa9a-4f7e-ad2f-7665fe06a960"
      },
      "execution_count": null,
      "outputs": [
        {
          "name": "stdout",
          "output_type": "stream",
          "text": [
            "enter item name: dwljef\n",
            "enter price: denf\n"
          ]
        },
        {
          "output_type": "error",
          "ename": "ValueError",
          "evalue": "invalid literal for int() with base 10: 'denf'",
          "traceback": [
            "\u001b[0;31m---------------------------------------------------------------------------\u001b[0m",
            "\u001b[0;31mValueError\u001b[0m                                Traceback (most recent call last)",
            "\u001b[0;32m<ipython-input-34-dca1f6e87bb9>\u001b[0m in \u001b[0;36m<cell line: 2>\u001b[0;34m()\u001b[0m\n\u001b[1;32m      1\u001b[0m \u001b[0mitem\u001b[0m \u001b[0;34m=\u001b[0m \u001b[0minput\u001b[0m\u001b[0;34m(\u001b[0m\u001b[0;34m\"enter item name: \"\u001b[0m\u001b[0;34m)\u001b[0m\u001b[0;34m\u001b[0m\u001b[0;34m\u001b[0m\u001b[0m\n\u001b[0;32m----> 2\u001b[0;31m \u001b[0mprice_each\u001b[0m \u001b[0;34m=\u001b[0m \u001b[0mint\u001b[0m\u001b[0;34m(\u001b[0m\u001b[0minput\u001b[0m\u001b[0;34m(\u001b[0m\u001b[0;34m\"enter price: \"\u001b[0m\u001b[0;34m)\u001b[0m\u001b[0;34m)\u001b[0m\u001b[0;34m\u001b[0m\u001b[0;34m\u001b[0m\u001b[0m\n\u001b[0m\u001b[1;32m      3\u001b[0m \u001b[0mquantity\u001b[0m \u001b[0;34m=\u001b[0m \u001b[0mint\u001b[0m\u001b[0;34m(\u001b[0m\u001b[0minput\u001b[0m\u001b[0;34m(\u001b[0m\u001b[0;34m\"enter the total quantity \"\u001b[0m\u001b[0;34m)\u001b[0m\u001b[0;34m)\u001b[0m\u001b[0;34m\u001b[0m\u001b[0;34m\u001b[0m\u001b[0m\n\u001b[1;32m      4\u001b[0m \u001b[0mNotification\u001b[0m \u001b[0;34m=\u001b[0m \u001b[0;34mf\"your order for {item}, has been confirmed, with an quantity of {quantity} and Total price {price_each*quantity}\"\u001b[0m\u001b[0;34m\u001b[0m\u001b[0;34m\u001b[0m\u001b[0m\n\u001b[1;32m      5\u001b[0m \u001b[0mprint\u001b[0m\u001b[0;34m(\u001b[0m\u001b[0mNotification\u001b[0m\u001b[0;34m)\u001b[0m\u001b[0;34m\u001b[0m\u001b[0;34m\u001b[0m\u001b[0m\n",
            "\u001b[0;31mValueError\u001b[0m: invalid literal for int() with base 10: 'denf'"
          ]
        }
      ]
    },
    {
      "cell_type": "markdown",
      "source": [
        "**escape characters**"
      ],
      "metadata": {
        "id": "YtRZ0DKQ6gp5"
      }
    },
    {
      "cell_type": "code",
      "source": [
        "#when we want to print illegal characters (\" \" or  ' ') along with the string we use escape characters\n",
        "#escape characters can be decalred in backward slash (\\)\n",
        "a = \"Dywane \\\"The Rock\\\" Johnson\"\n",
        "print(a)"
      ],
      "metadata": {
        "id": "5ushUVTM6i6P"
      },
      "execution_count": null,
      "outputs": []
    },
    {
      "cell_type": "code",
      "source": [
        "son2age = 10"
      ],
      "metadata": {
        "id": "Awrc0Q3YU7ji"
      },
      "execution_count": null,
      "outputs": []
    },
    {
      "cell_type": "code",
      "source": [
        "user_input = input(\"Enter a number: \");\n",
        "print(\"You entered: \", int(user_input))\n"
      ],
      "metadata": {
        "id": "Gu_TlufQV4hg"
      },
      "execution_count": null,
      "outputs": []
    },
    {
      "cell_type": "code",
      "source": [
        "\n",
        "#What will be printed when the following executes?\n",
        "str = \"His shirt is red\"\n",
        "pos = str.find(\"is\")\n",
        "print(pos)"
      ],
      "metadata": {
        "id": "zKF9AnWQWjnz"
      },
      "execution_count": null,
      "outputs": []
    },
    {
      "cell_type": "markdown",
      "source": [
        "**24-12-2024**"
      ],
      "metadata": {
        "id": "HsQSa8PoaNml"
      }
    },
    {
      "cell_type": "markdown",
      "source": [
        "**loops**"
      ],
      "metadata": {
        "id": "ipyoLQVgcS6P"
      }
    },
    {
      "cell_type": "code",
      "source": [
        "#what is loop?\n",
        "# loop is defined as a set of instruction or a set of rules\n",
        "#what is main purpose of loops?\n",
        "# main purpose of loops is to avoid writing duplicate codes.\n",
        "#Howmany types of codes do we have?\n",
        "#2types\n",
        "#1.WET Codes--> means -->w:write e:everything t:twice\n",
        "#2.DRY Codes--> means --> d:Don't r:repeat y:yourself\n",
        "# so loops encourages you to write the DRY codes"
      ],
      "metadata": {
        "id": "hcpcvhuoaVWE"
      },
      "execution_count": null,
      "outputs": []
    },
    {
      "cell_type": "code",
      "source": [
        "#how many types of loops?\n",
        "#there are 2types of loops\n",
        "#1. while loop\n",
        "#2. for loop\n",
        "#why we don't have do-while loop in python because python is ahigh-level programming language\n",
        "#Both while & dowhile can have same working functionality"
      ],
      "metadata": {
        "id": "y26LZs0xdjk9"
      },
      "execution_count": null,
      "outputs": []
    },
    {
      "cell_type": "markdown",
      "source": [
        "**WHILE LOOP**"
      ],
      "metadata": {
        "id": "2XAtIMiwfB_T"
      }
    },
    {
      "cell_type": "code",
      "source": [
        "#WHAT IS A While loop?\n",
        "#While loop runs a set of instructions untile the condition remains true\n",
        "intial = 1\n",
        "target = 5\n",
        "while intial <= target:\n",
        "  print(\"go up\")\n",
        "  print(\"go down\")\n",
        "  print(\"=======rep complted====\")\n",
        "  print(intial)\n",
        "  intial = intial + 1"
      ],
      "metadata": {
        "id": "zQiq141HfFSl"
      },
      "execution_count": null,
      "outputs": []
    },
    {
      "cell_type": "code",
      "source": [
        "print(1 <= 5)\n",
        "print(2 <= 5)\n",
        "print(3 <= 5)\n",
        "print(4 <= 5)\n",
        "print(5 <= 5)\n",
        "print(6 <= 5)"
      ],
      "metadata": {
        "id": "tOW2AYbjgQC3"
      },
      "execution_count": null,
      "outputs": []
    },
    {
      "cell_type": "code",
      "source": [
        "#write simple program to run a lift? if the user giveing 4th floor stop at floor 4\n",
        "intial = 1\n",
        "target = int(input(\"enter your floor no:  \"))\n",
        "while intial <= target:\n",
        "  print(f'you are at {intial} floor')\n",
        "  intial = intial + 1"
      ],
      "metadata": {
        "id": "m5t4M2YBkH2p"
      },
      "execution_count": null,
      "outputs": []
    },
    {
      "cell_type": "code",
      "source": [
        "a = [1,2,3,4,5,6]\n",
        "#in above list print the multiples of 2\n",
        "#2,4,6,8,10,12"
      ],
      "metadata": {
        "id": "UAvYHcBImISx"
      },
      "execution_count": null,
      "outputs": []
    },
    {
      "cell_type": "markdown",
      "source": [
        "**for loop**"
      ],
      "metadata": {
        "id": "-wCkvh9xmm70"
      }
    },
    {
      "cell_type": "code",
      "source": [
        "#what is for loop?\n",
        "#for loop runs a set of instructions or rules over each and every elemnt in the collection\n",
        "a = [1,2,3,4,5,6]\n",
        "for i in a:\n",
        "  print(i*2, end=\",\")"
      ],
      "metadata": {
        "id": "Y-tTHGujmou3"
      },
      "execution_count": null,
      "outputs": []
    },
    {
      "cell_type": "markdown",
      "source": [
        "**break**:- it breaks the loop irrespective of items in the collection"
      ],
      "metadata": {
        "id": "Bx894PsFq--v"
      }
    },
    {
      "cell_type": "code",
      "source": [
        "h = [1,2,3,4,5,6,7,8,9,12,13,15,17,19,14,17,23,24,23,26,78,54,34,562,5234,]\n",
        "#print the items before 13\n",
        "for i in h:\n",
        "  if i == 13 or i == 562:\n",
        "    break\n",
        "  print(i,end=\",\")"
      ],
      "metadata": {
        "colab": {
          "base_uri": "https://localhost:8080/"
        },
        "id": "IKp4GCg6oRfe",
        "outputId": "f7f4811b-13c6-4758-f49f-a5fd00dbe2f3"
      },
      "execution_count": null,
      "outputs": [
        {
          "output_type": "stream",
          "name": "stdout",
          "text": [
            "1,2,3,4,5,6,7,8,9,12,"
          ]
        }
      ]
    },
    {
      "cell_type": "markdown",
      "source": [
        "**continue**--> skips the current loop"
      ],
      "metadata": {
        "id": "vaF9jeH7rSVc"
      }
    },
    {
      "cell_type": "code",
      "source": [
        "for j in h:\n",
        "  if j == 562 or j == 5234 or j == 12 or j == 15:\n",
        "    continue\n",
        "  print(j,end = \" \")"
      ],
      "metadata": {
        "id": "PwxDZS4pqo_d"
      },
      "execution_count": null,
      "outputs": []
    },
    {
      "cell_type": "code",
      "source": [
        "#can we break a loop at multiple points--> No\n",
        "#can we skip multiple iterations at a time---> yes"
      ],
      "metadata": {
        "id": "xVk7efIhsIuB"
      },
      "execution_count": null,
      "outputs": []
    },
    {
      "cell_type": "markdown",
      "source": [
        "25-12-2024\n",
        "\n",
        "**Range()**"
      ],
      "metadata": {
        "id": "JIm2ewSSQK1z"
      }
    },
    {
      "cell_type": "code",
      "source": [
        "#what is range()?\n",
        "#it is a inbuilt function used to print range of numbers\n",
        "for i in range(10):\n",
        "  print(i,end = \",\") #end act as a delimeter which means it separates each data item with some characters"
      ],
      "metadata": {
        "colab": {
          "base_uri": "https://localhost:8080/"
        },
        "id": "ZEavnA1QQYqQ",
        "outputId": "f13c878b-e968-4b80-d162-04febea717d2"
      },
      "execution_count": null,
      "outputs": [
        {
          "output_type": "stream",
          "name": "stdout",
          "text": [
            "0,1,2,3,4,5,6,7,8,9,"
          ]
        }
      ]
    },
    {
      "cell_type": "code",
      "source": [
        "#print the range of numbers start from 1 to 20\n",
        "#range(start,end)--> end is always n+1\n",
        "for h in range(1,21):\n",
        "  print(h,end=\" \")"
      ],
      "metadata": {
        "colab": {
          "base_uri": "https://localhost:8080/"
        },
        "id": "yF1kuPQjQEvr",
        "outputId": "931f398d-bec3-4bce-9eea-18732954cc31"
      },
      "execution_count": null,
      "outputs": [
        {
          "output_type": "stream",
          "name": "stdout",
          "text": [
            "1 2 3 4 5 6 7 8 9 10 11 12 13 14 15 16 17 18 19 20 "
          ]
        }
      ]
    },
    {
      "cell_type": "code",
      "source": [
        "#print the range of even numbers from 20 to 100\n",
        "#range(start,end,step)\n",
        "for i in range(21,101,2):\n",
        "  print(i,end=\" \")"
      ],
      "metadata": {
        "colab": {
          "base_uri": "https://localhost:8080/"
        },
        "id": "-Rd0amCXRsWf",
        "outputId": "c5b0925b-fad7-49d9-a53e-575433ccb89a"
      },
      "execution_count": null,
      "outputs": [
        {
          "output_type": "stream",
          "name": "stdout",
          "text": [
            "21 23 25 27 29 31 33 35 37 39 41 43 45 47 49 51 53 55 57 59 61 63 65 67 69 71 73 75 77 79 81 83 85 87 89 91 93 95 97 99 "
          ]
        }
      ]
    },
    {
      "cell_type": "code",
      "source": [
        "#calculate the sum of numbers from 1 to 10 by using loops?\n",
        "sum = 0\n",
        "for i in range(1,11):\n",
        "  sum = sum + i\n",
        "print(i)"
      ],
      "metadata": {
        "colab": {
          "base_uri": "https://localhost:8080/"
        },
        "id": "JKK7a0xwPssm",
        "outputId": "2cae575c-af97-4b69-dc82-0b122c7b3301"
      },
      "execution_count": null,
      "outputs": [
        {
          "output_type": "stream",
          "name": "stdout",
          "text": [
            "10\n"
          ]
        }
      ]
    },
    {
      "cell_type": "code",
      "source": [
        "#2.print the numbers in reverse from 10 to 1 by using the loops?\n",
        "for i in range(10,0,-1):\n",
        "  print(i,end=\" \")"
      ],
      "metadata": {
        "colab": {
          "base_uri": "https://localhost:8080/"
        },
        "id": "xarW9cYEUDny",
        "outputId": "9f2121a3-96cf-4920-8339-5a5cd8d2c474"
      },
      "execution_count": null,
      "outputs": [
        {
          "output_type": "stream",
          "name": "stdout",
          "text": [
            "10 9 8 7 6 5 4 3 2 1 "
          ]
        }
      ]
    },
    {
      "cell_type": "code",
      "source": [
        "#3. print the string characters by using the loops in separate line?\n",
        "h = \"Hello World!\"\n",
        "for i in h:\n",
        "  print(i)"
      ],
      "metadata": {
        "id": "dgi3lAcyUtIX"
      },
      "execution_count": null,
      "outputs": []
    },
    {
      "cell_type": "code",
      "source": [
        "#4.print all upper case letters in a string using a for loop?\n",
        "string = \"Hello World\"\n",
        "for i in string:\n",
        "  print(i.upper(),end=\"\")\n"
      ],
      "metadata": {
        "colab": {
          "base_uri": "https://localhost:8080/"
        },
        "id": "oA_k4oL7Vj8a",
        "outputId": "c56fbecd-8828-4efb-da3e-04474be4d654"
      },
      "execution_count": null,
      "outputs": [
        {
          "output_type": "stream",
          "name": "stdout",
          "text": [
            "HELLO WORLD"
          ]
        }
      ]
    },
    {
      "cell_type": "code",
      "source": [
        "#5.Count the number of vowerls in a string?\n",
        "d = \"Hello World\"\n",
        "vowels = \"AEIOUaeiou\"\n",
        "count = 0 #store the count of vowels\n",
        "for i in d:\n",
        "  if i in vowels:\n",
        "    count = count + 1\n",
        "print(count)"
      ],
      "metadata": {
        "colab": {
          "base_uri": "https://localhost:8080/"
        },
        "id": "PmGvh-duWNeD",
        "outputId": "7fa2aa86-f409-4f42-9c97-f59a706571f8"
      },
      "execution_count": null,
      "outputs": [
        {
          "output_type": "stream",
          "name": "stdout",
          "text": [
            "3\n"
          ]
        }
      ]
    },
    {
      "cell_type": "code",
      "source": [
        "#6.print a pattern of stars * using the nested for loop?\n",
        "for i in range(5):   #length of i is 5\n",
        "  #print('*',end=\" \")\n",
        "  for j in range(i+1): #this will help you print the \"*\" in increasing order\n",
        "    print(\"*\",end=\"\")\n",
        "  print()\n"
      ],
      "metadata": {
        "colab": {
          "base_uri": "https://localhost:8080/"
        },
        "id": "UmlNjn2DXtXu",
        "outputId": "6ad2ab58-7cfc-4379-f0e0-a8e7ea90d410"
      },
      "execution_count": null,
      "outputs": [
        {
          "output_type": "stream",
          "name": "stdout",
          "text": [
            "*\n",
            "**\n",
            "***\n",
            "****\n",
            "*****\n"
          ]
        }
      ]
    },
    {
      "cell_type": "code",
      "source": [
        "#7.find the factorials of the numbers?\n",
        "# 5-->     1*2*3*4*5\n",
        "#both for loop and while\n",
        "fact = 1\n",
        "for i in range(1,6):\n",
        "  fact = fact * i\n",
        "  print(fact)"
      ],
      "metadata": {
        "id": "mdfvK2fbaSLU"
      },
      "execution_count": null,
      "outputs": []
    },
    {
      "cell_type": "code",
      "source": [
        "start = 1\n",
        "sum = 0\n",
        "while start <= 10:\n",
        "  sum = sum +start\n",
        "  start = start + 1\n",
        "print(sum)"
      ],
      "metadata": {
        "colab": {
          "base_uri": "https://localhost:8080/"
        },
        "id": "K0VndgJ7bDkQ",
        "outputId": "844121cf-95cb-4875-8276-6a5a3b481f47"
      },
      "execution_count": null,
      "outputs": [
        {
          "output_type": "stream",
          "name": "stdout",
          "text": [
            "55\n"
          ]
        }
      ]
    },
    {
      "cell_type": "markdown",
      "source": [
        "#Collection"
      ],
      "metadata": {
        "id": "vE9e8NrtifP0"
      }
    },
    {
      "cell_type": "code",
      "source": [
        "#How many types of collections?\n",
        "# 4types\n",
        "#1. list\n",
        "#2. tuple\n",
        "#3. set\n",
        "#4. dictionary"
      ],
      "metadata": {
        "id": "EXywu4m-ih0i"
      },
      "execution_count": null,
      "outputs": []
    },
    {
      "cell_type": "code",
      "source": [
        "#collection store two types of data\n",
        "#1. Homogenous data\n",
        "#2. Heterogenous data\n",
        "#what is homogenous collection?\n",
        "#collection of same data types is known as homogenous data\n",
        "#what is heterogenous data?\n",
        "#collection of multiple dtypes is known as heterogenous data"
      ],
      "metadata": {
        "id": "CWMfBbc8i9xn"
      },
      "execution_count": null,
      "outputs": []
    },
    {
      "cell_type": "markdown",
      "source": [
        "**LIST**"
      ],
      "metadata": {
        "id": "L5ASm9GHjbH-"
      }
    },
    {
      "cell_type": "code",
      "source": [
        "#what is a list and how can we decalre a list? or Define a list?\n",
        "#list --->[]\n",
        "#list is defined as ordered, muttable(changable), and it allows the duplicate data"
      ],
      "metadata": {
        "id": "w9rnXVuyjdCa"
      },
      "execution_count": null,
      "outputs": []
    },
    {
      "cell_type": "markdown",
      "source": [
        "**allows the duplicate data**"
      ],
      "metadata": {
        "id": "7O7p_tVLkZFM"
      }
    },
    {
      "cell_type": "code",
      "source": [
        "l1 = ['python','java','Dot Net','C++',\"C\",\"R\",'python','java','NodeJS']\n",
        "print(len(l1))\n",
        "print(l1)"
      ],
      "metadata": {
        "colab": {
          "base_uri": "https://localhost:8080/"
        },
        "id": "vL28ZQvzkafm",
        "outputId": "c06cb77d-7e48-4b34-b662-a292a5201aa0"
      },
      "execution_count": null,
      "outputs": [
        {
          "output_type": "stream",
          "name": "stdout",
          "text": [
            "9\n",
            "['python', 'java', 'Dot Net', 'C++', 'C', 'R', 'python', 'java', 'NodeJS']\n"
          ]
        }
      ]
    },
    {
      "cell_type": "markdown",
      "source": [
        "**list is ordered**"
      ],
      "metadata": {
        "id": "GaX809bwk5Zp"
      }
    },
    {
      "cell_type": "code",
      "source": [
        "l1 = ['python','java','Dot Net','C++',\"C\",\"R\",'python','java','NodeJS']\n",
        "#what is ordered?\n",
        "#if the items in the collection is having a sequence of index position numbers then the collection is ordered"
      ],
      "metadata": {
        "id": "qegNUVelk9CC"
      },
      "execution_count": null,
      "outputs": []
    },
    {
      "cell_type": "code",
      "source": [
        "#[start]\n",
        "#print \"Dot Net\" from above list\n",
        "print(l1[2])\n",
        "#[start:end] #end is always n+1\n",
        "#print the 'C++',\"C\",\"R\"\n",
        "print(l1[3:6])\n",
        "#print the even index position characters\n",
        "#[start:end:step]\n",
        "print(l1[0:10:2])"
      ],
      "metadata": {
        "id": "RU5Gvvf6lNZE"
      },
      "execution_count": null,
      "outputs": []
    },
    {
      "cell_type": "code",
      "source": [
        "#print the last character of the above string\n",
        "print(l1[-1])\n",
        "#print a range of characters by using -ve indexing\n",
        "print(l1[-4:-8:-1])"
      ],
      "metadata": {
        "id": "CDm504TGmOao"
      },
      "execution_count": null,
      "outputs": []
    },
    {
      "cell_type": "code",
      "source": [
        "print(l1[::2])\n",
        "#reverse the entire list\n",
        "print(l1[::-1])"
      ],
      "metadata": {
        "id": "TwIVCoocmx4U"
      },
      "execution_count": null,
      "outputs": []
    },
    {
      "cell_type": "markdown",
      "source": [
        "**List is Muttable**\n",
        "\n",
        "muttable means collection has to follow 3 properties\n",
        "1. replace or swap the items\n",
        "2. add new items\n",
        "3. remove the items"
      ],
      "metadata": {
        "id": "_M6RPmrRomhm"
      }
    },
    {
      "cell_type": "markdown",
      "source": [
        "*replace or swap the items*"
      ],
      "metadata": {
        "id": "sT_d_2U4pFY9"
      }
    },
    {
      "cell_type": "code",
      "source": [
        "#how can replace the items in list?\n",
        "#by using the index position numbers\n",
        "l2 = ['apple','banana','kiwi','mango','orange','apple']\n",
        "#above list replace kiwi with watermelon\n",
        "l2[2] = 'watermelon'\n",
        "print(l2)\n"
      ],
      "metadata": {
        "colab": {
          "base_uri": "https://localhost:8080/"
        },
        "id": "oNkpuOKupDWu",
        "outputId": "e82d3748-16b7-40c5-aa44-96818ab340e5"
      },
      "execution_count": null,
      "outputs": [
        {
          "output_type": "stream",
          "name": "stdout",
          "text": [
            "['apple', 'banana', 'watermelon', 'mango', 'orange', 'apple']\n"
          ]
        }
      ]
    },
    {
      "cell_type": "code",
      "source": [
        "#replace \"banana', 'watermelon', 'mango' with kiwi,lemon,grapes\"\n",
        "l2[1:4] = \"kiwi\",\"lemon\",\"grapes\"\n",
        "print(l2)"
      ],
      "metadata": {
        "colab": {
          "base_uri": "https://localhost:8080/"
        },
        "id": "TJSZMTLKpsKR",
        "outputId": "91cd6294-632e-45df-f73d-fb322fcb0987"
      },
      "execution_count": null,
      "outputs": [
        {
          "output_type": "stream",
          "name": "stdout",
          "text": [
            "['apple', 'kiwi', 'lemon', 'grapes', 'orange', 'apple']\n"
          ]
        }
      ]
    },
    {
      "cell_type": "markdown",
      "source": [
        "*Add the items to list*"
      ],
      "metadata": {
        "id": "Bt-bS5gRqIXb"
      }
    },
    {
      "cell_type": "code",
      "source": [
        "#dir()\n",
        "print(dir(l2))\n",
        "\"\"\"'append', 'clear', 'copy', 'count', 'extend', 'index', 'insert', 'pop',\n",
        "'remove', 'reverse', 'sort' \"\"\""
      ],
      "metadata": {
        "colab": {
          "base_uri": "https://localhost:8080/"
        },
        "id": "z1gOgsuIqNCj",
        "outputId": "f8750cc9-c42b-4260-88dc-8c395a11e726"
      },
      "execution_count": null,
      "outputs": [
        {
          "output_type": "stream",
          "name": "stdout",
          "text": [
            "['__add__', '__class__', '__class_getitem__', '__contains__', '__delattr__', '__delitem__', '__dir__', '__doc__', '__eq__', '__format__', '__ge__', '__getattribute__', '__getitem__', '__gt__', '__hash__', '__iadd__', '__imul__', '__init__', '__init_subclass__', '__iter__', '__le__', '__len__', '__lt__', '__mul__', '__ne__', '__new__', '__reduce__', '__reduce_ex__', '__repr__', '__reversed__', '__rmul__', '__setattr__', '__setitem__', '__sizeof__', '__str__', '__subclasshook__', 'append', 'clear', 'copy', 'count', 'extend', 'index', 'insert', 'pop', 'remove', 'reverse', 'sort']\n"
          ]
        }
      ]
    },
    {
      "cell_type": "code",
      "source": [
        "l3 = ['apple', 'kiwi', 'lemon', 'grapes', 'orange', 'apple']\n",
        "#add \"banana\" to l3\n",
        "#append()\n",
        "#what is default index position when you use the append method?\n",
        "#at the end of the list\n",
        "l3.append('banana')\n",
        "print(l3)\n",
        "#Note we cannot add the multiple items by using the append method"
      ],
      "metadata": {
        "colab": {
          "base_uri": "https://localhost:8080/"
        },
        "id": "jT0kVOjRqhSZ",
        "outputId": "cf56ed4f-3006-4d5a-ee60-2366402a234d"
      },
      "execution_count": null,
      "outputs": [
        {
          "output_type": "stream",
          "name": "stdout",
          "text": [
            "['apple', 'kiwi', 'lemon', 'grapes', 'orange', 'apple', 'banana']\n"
          ]
        }
      ]
    },
    {
      "cell_type": "code",
      "source": [
        "#add the item at particular index position--> use insert(index,item_name)\n",
        "l3.insert(1,'dragon fruit')\n",
        "print(l3)\n",
        "#note:- we cannot add multiple items by using insert()"
      ],
      "metadata": {
        "colab": {
          "base_uri": "https://localhost:8080/"
        },
        "id": "Q-4zT_0srCJt",
        "outputId": "ba6d6fda-16a4-433c-9a3f-d65b38ef599f"
      },
      "execution_count": null,
      "outputs": [
        {
          "output_type": "stream",
          "name": "stdout",
          "text": [
            "['apple', 'dragon fruit', 'dragon fruit', 'kiwi', 'lemon', 'grapes', 'orange', 'apple', 'banana']\n"
          ]
        }
      ]
    },
    {
      "cell_type": "code",
      "source": [
        "#if i want to add the multiple items in above list\n",
        "#use 'extend()' by default the items can be added at end index position\n",
        "l4 = [1,2,3,4,5,6]\n",
        "#add the l4 into l3\n",
        "l3.extend(l4)"
      ],
      "metadata": {
        "colab": {
          "base_uri": "https://localhost:8080/"
        },
        "id": "ZSVU810XrfVa",
        "outputId": "c6180760-dd62-4341-fee0-c58e0349df9d"
      },
      "execution_count": null,
      "outputs": [
        {
          "output_type": "stream",
          "name": "stdout",
          "text": [
            "[1, 2, 3, 4, 5, 6]\n"
          ]
        }
      ]
    },
    {
      "cell_type": "code",
      "source": [
        "print(l3)"
      ],
      "metadata": {
        "colab": {
          "base_uri": "https://localhost:8080/"
        },
        "id": "LhZ1y5qUsHAe",
        "outputId": "e1009e49-194e-48eb-bed4-edd960c94a5e"
      },
      "execution_count": null,
      "outputs": [
        {
          "output_type": "stream",
          "name": "stdout",
          "text": [
            "['apple', 'dragon fruit', 'dragon fruit', 'kiwi', 'lemon', 'grapes', 'orange', 'apple', 'banana', 1, 2, 3, 4, 5, 6]\n"
          ]
        }
      ]
    },
    {
      "cell_type": "markdown",
      "source": [
        "**remove items from list**"
      ],
      "metadata": {
        "id": "zVN4PUi9uQC6"
      }
    },
    {
      "cell_type": "code",
      "source": [
        "#1.pop('index') or pop() by defalut remove the end item\n",
        "l5 = ['apple', 'dragon fruit', 'dragon fruit', 'kiwi', 'lemon', 'grapes', 'orange', 'apple', 'banana', 1, 2, 3, 4, 5, 6]\n",
        "l5.pop()\n",
        "print(l5)"
      ],
      "metadata": {
        "colab": {
          "base_uri": "https://localhost:8080/"
        },
        "id": "2pSbX72iuVCH",
        "outputId": "df3ce80a-aff3-4f1e-c7d5-ad15f0452616"
      },
      "execution_count": null,
      "outputs": [
        {
          "output_type": "stream",
          "name": "stdout",
          "text": [
            "['apple', 'dragon fruit', 'dragon fruit', 'kiwi', 'lemon', 'grapes', 'orange', 'apple', 'banana', 1, 2, 3, 4, 5]\n"
          ]
        }
      ]
    },
    {
      "cell_type": "code",
      "source": [
        "l5.pop(1)   #pop(index_position)\n",
        "print(l5)"
      ],
      "metadata": {
        "colab": {
          "base_uri": "https://localhost:8080/"
        },
        "id": "12qFz93zunT8",
        "outputId": "0da8840c-c1d4-4924-9da6-6a2927788dcc"
      },
      "execution_count": null,
      "outputs": [
        {
          "output_type": "stream",
          "name": "stdout",
          "text": [
            "['apple', 'dragon fruit', 'kiwi', 'lemon', 'grapes', 'orange', 'apple', 'banana', 1, 2, 3, 4, 5]\n"
          ]
        }
      ]
    },
    {
      "cell_type": "code",
      "source": [
        "l5.pop(5)\n",
        "print(l5)"
      ],
      "metadata": {
        "colab": {
          "base_uri": "https://localhost:8080/"
        },
        "id": "5c_lJfJhu0Jj",
        "outputId": "c66d0d67-6605-4871-c193-8809f202a505"
      },
      "execution_count": null,
      "outputs": [
        {
          "output_type": "stream",
          "name": "stdout",
          "text": [
            "['apple', 'dragon fruit', 'kiwi', 'lemon', 'grapes', 'apple', 'banana', 1, 2, 3, 4, 5]\n"
          ]
        }
      ]
    },
    {
      "cell_type": "code",
      "source": [
        "#remove(item_name)\n",
        "l5.remove('dragon fruit')\n",
        "print(l5)\n",
        "#we cannot remove the multiple items at a time by using reve()"
      ],
      "metadata": {
        "colab": {
          "base_uri": "https://localhost:8080/"
        },
        "id": "5aBDB_DLvAD8",
        "outputId": "75b6e9c5-9340-4dae-b52f-9699424ce3b3"
      },
      "execution_count": null,
      "outputs": [
        {
          "output_type": "stream",
          "name": "stdout",
          "text": [
            "['apple', 'kiwi', 'lemon', 'grapes', 'apple', 'banana', 1, 2, 3, 4, 5]\n"
          ]
        }
      ]
    },
    {
      "cell_type": "code",
      "source": [
        "#del collection_name[start:end]\n",
        "del l5[7:12]\n",
        "print(l5)"
      ],
      "metadata": {
        "colab": {
          "base_uri": "https://localhost:8080/"
        },
        "id": "x_nE5cvgvY5m",
        "outputId": "07953771-c768-4269-b637-5de803d983e1"
      },
      "execution_count": null,
      "outputs": [
        {
          "output_type": "stream",
          "name": "stdout",
          "text": [
            "['apple', 'kiwi', 'lemon', 'grapes', 'apple', 'banana', 1]\n"
          ]
        }
      ]
    },
    {
      "cell_type": "code",
      "source": [
        "#clear the items from the list and print the empty list\n",
        "l5.clear()\n",
        "print(l5)"
      ],
      "metadata": {
        "colab": {
          "base_uri": "https://localhost:8080/"
        },
        "id": "5D0MwjRivoUy",
        "outputId": "8fba58d3-bed1-430b-e769-ecc837a99642"
      },
      "execution_count": null,
      "outputs": [
        {
          "output_type": "stream",
          "name": "stdout",
          "text": [
            "[]\n"
          ]
        }
      ]
    },
    {
      "cell_type": "code",
      "source": [
        "#delete the entire list\n",
        "del l5\n",
        "print(l5)"
      ],
      "metadata": {
        "id": "lk0sveFEvxMY"
      },
      "execution_count": null,
      "outputs": []
    },
    {
      "cell_type": "code",
      "source": [
        "#reverse a list or sorting of list--> h.w"
      ],
      "metadata": {
        "id": "lxvwUufExdiW"
      },
      "execution_count": null,
      "outputs": []
    },
    {
      "cell_type": "markdown",
      "source": [
        "**Tuple**"
      ],
      "metadata": {
        "id": "05RrD-3gxiwb"
      }
    },
    {
      "cell_type": "code",
      "source": [
        "#what is tuple or define tuple?\n",
        "#Tuple:-()\n",
        "#tuple is defined as 'ordered', immutable, allows the duplicates"
      ],
      "metadata": {
        "id": "kCHGHUZXxk3c"
      },
      "execution_count": null,
      "outputs": []
    },
    {
      "cell_type": "markdown",
      "source": [
        "tuple allows the duplicates"
      ],
      "metadata": {
        "id": "6W5Z7t5Nx272"
      }
    },
    {
      "cell_type": "code",
      "source": [
        "t1 = ('apple', 'kiwi', 'lemon', 'grapes', 'apple', 'banana')\n",
        "print(t1)\n",
        "print(type(t1))\n",
        "print(len(t1))"
      ],
      "metadata": {
        "id": "_6TlE6uJx4cU"
      },
      "execution_count": null,
      "outputs": []
    },
    {
      "cell_type": "markdown",
      "source": [
        "**tuple is ordered**"
      ],
      "metadata": {
        "id": "bjDgAeBnyLuU"
      }
    },
    {
      "cell_type": "code",
      "source": [
        "print(t1[0])\n",
        "print(t1[2:5])\n",
        "print(t1[::-1])"
      ],
      "metadata": {
        "id": "VW5ayp7RyK62"
      },
      "execution_count": null,
      "outputs": []
    },
    {
      "cell_type": "markdown",
      "source": [
        "**tuples are immutable**\n",
        "\n",
        "in tuple we cannot replace, add, remove the items from the tuple"
      ],
      "metadata": {
        "id": "CbxWMbAhyYOC"
      }
    },
    {
      "cell_type": "code",
      "source": [
        "l = list(t1)\n",
        "print(l)"
      ],
      "metadata": {
        "colab": {
          "base_uri": "https://localhost:8080/"
        },
        "id": "0PmaKR3OyhTH",
        "outputId": "36cc2f73-e726-4fbf-8ead-4dfd2e8e1d27"
      },
      "execution_count": null,
      "outputs": [
        {
          "output_type": "stream",
          "name": "stdout",
          "text": [
            "['apple', 'kiwi', 'lemon', 'grapes', 'apple', 'banana']\n"
          ]
        }
      ]
    },
    {
      "cell_type": "code",
      "source": [
        "t2 = tuple(l)\n",
        "print(t2)"
      ],
      "metadata": {
        "id": "IZrEYNSyyrLg",
        "outputId": "d8ee24cf-2549-48d9-8765-531498c9b335",
        "colab": {
          "base_uri": "https://localhost:8080/"
        }
      },
      "execution_count": null,
      "outputs": [
        {
          "output_type": "stream",
          "name": "stdout",
          "text": [
            "('apple', 'kiwi', 'lemon', 'grapes', 'apple', 'banana')\n"
          ]
        }
      ]
    },
    {
      "cell_type": "markdown",
      "source": [
        "**26-12-2024**"
      ],
      "metadata": {
        "id": "QVfj29smcMQy"
      }
    },
    {
      "cell_type": "code",
      "source": [
        "#tuples are faster than the list why--> beacuse tuples are immutable."
      ],
      "metadata": {
        "id": "-Otea3Z2cd9w"
      },
      "execution_count": null,
      "outputs": []
    },
    {
      "cell_type": "markdown",
      "source": [
        "**set**"
      ],
      "metadata": {
        "id": "mkCRsgFYdHMh"
      }
    },
    {
      "cell_type": "code",
      "source": [
        "#what is a set?\n",
        "#how can you define a set?\n",
        "#set---> {}\n",
        "#set is defined as unordered, immutable, and wont allow duplicates"
      ],
      "metadata": {
        "id": "g3Gkqa6CdLuf"
      },
      "execution_count": null,
      "outputs": []
    },
    {
      "cell_type": "markdown",
      "source": [
        "**sets wont allow duplicates**"
      ],
      "metadata": {
        "id": "BlJ9Qf4hdrvr"
      }
    },
    {
      "cell_type": "code",
      "source": [
        "s1 = {1,2,3,4,5,6,7,8,1,4,5,6,1,2,3}\n",
        "#what is the length of above set\n",
        "print(len(s1))\n",
        "print(s1)\n",
        "print(type(s1))"
      ],
      "metadata": {
        "colab": {
          "base_uri": "https://localhost:8080/"
        },
        "id": "cElwVqMPdvQR",
        "outputId": "c442d863-d519-49a4-f1ab-847bfaa68361"
      },
      "execution_count": null,
      "outputs": [
        {
          "output_type": "stream",
          "name": "stdout",
          "text": [
            "8\n",
            "{1, 2, 3, 4, 5, 6, 7, 8}\n",
            "<class 'set'>\n"
          ]
        }
      ]
    },
    {
      "cell_type": "markdown",
      "source": [
        "**set is unordered**"
      ],
      "metadata": {
        "id": "3LuDDCXCeRyf"
      }
    },
    {
      "cell_type": "code",
      "source": [
        "#Unordered means the the elements in the set doesn't have sequence of index position numbers\n",
        "s2={'apple','banana','lemon','orange','lemon'}\n",
        "print(s2[1]) # 'set' object is not subscriptable bcz it is unordered"
      ],
      "metadata": {
        "id": "-fZUmVh2eJon"
      },
      "execution_count": null,
      "outputs": []
    },
    {
      "cell_type": "code",
      "source": [
        "print(s2)"
      ],
      "metadata": {
        "colab": {
          "base_uri": "https://localhost:8080/"
        },
        "id": "xn648NIDe4RJ",
        "outputId": "d20d3dd5-dbcf-4cad-e6e6-4e9a8d658fdc"
      },
      "execution_count": null,
      "outputs": [
        {
          "output_type": "stream",
          "name": "stdout",
          "text": [
            "{'banana', 'apple', 'orange', 'lemon'}\n"
          ]
        }
      ]
    },
    {
      "cell_type": "markdown",
      "source": [
        "**set is immutable**"
      ],
      "metadata": {
        "id": "WLZlfsTYe_sh"
      }
    },
    {
      "cell_type": "code",
      "source": [
        "#In sets we can add the new items and remove the items from set BUT we cannot replace the items in the SET\n",
        "print(dir(s2))\n",
        "\"\"\"\n",
        "'add', 'clear', 'copy', 'difference', 'difference_update', 'discard', 'intersection',\n",
        "'intersection_update', 'isdisjoint', 'issubset', 'issuperset', 'pop', 'remove',\n",
        "'symmetric_difference', 'symmetric_difference_update', 'union', 'update' \"\"\""
      ],
      "metadata": {
        "colab": {
          "base_uri": "https://localhost:8080/"
        },
        "id": "9gCDH2xhhCIi",
        "outputId": "984f6d21-bc0a-45a5-b5e9-09a9413a39f9"
      },
      "execution_count": null,
      "outputs": [
        {
          "output_type": "stream",
          "name": "stdout",
          "text": [
            "['__and__', '__class__', '__class_getitem__', '__contains__', '__delattr__', '__dir__', '__doc__', '__eq__', '__format__', '__ge__', '__getattribute__', '__gt__', '__hash__', '__iand__', '__init__', '__init_subclass__', '__ior__', '__isub__', '__iter__', '__ixor__', '__le__', '__len__', '__lt__', '__ne__', '__new__', '__or__', '__rand__', '__reduce__', '__reduce_ex__', '__repr__', '__ror__', '__rsub__', '__rxor__', '__setattr__', '__sizeof__', '__str__', '__sub__', '__subclasshook__', '__xor__', 'add', 'clear', 'copy', 'difference', 'difference_update', 'discard', 'intersection', 'intersection_update', 'isdisjoint', 'issubset', 'issuperset', 'pop', 'remove', 'symmetric_difference', 'symmetric_difference_update', 'union', 'update']\n"
          ]
        }
      ]
    },
    {
      "cell_type": "markdown",
      "source": [
        "**Add items into set**"
      ],
      "metadata": {
        "id": "-gGSaNjmhhC9"
      }
    },
    {
      "cell_type": "code",
      "source": [
        "#1.add()\n",
        "s3={'banana', 'apple', 'orange', 'lemon'}\n",
        "s3.add('kiwi')\n",
        "print(s3)\n",
        "#what is the index position of item when you add item in to set?\n",
        "#random position BCZ  set is unordered"
      ],
      "metadata": {
        "colab": {
          "base_uri": "https://localhost:8080/"
        },
        "id": "CxcEodWghkjz",
        "outputId": "e6910617-a2e0-405d-da2a-469e96ef8353"
      },
      "execution_count": null,
      "outputs": [
        {
          "output_type": "stream",
          "name": "stdout",
          "text": [
            "{'banana', 'kiwi', 'orange', 'apple', 'lemon'}\n"
          ]
        }
      ]
    },
    {
      "cell_type": "code",
      "source": [
        "#2.update() is used to add the multiple items in a set\n",
        "s4 ={'python','java','c++','C'}\n",
        "#update s3 with s4\n",
        "s3.update(s4)\n",
        "print(s3)"
      ],
      "metadata": {
        "colab": {
          "base_uri": "https://localhost:8080/"
        },
        "id": "A6UjKE_9iDs1",
        "outputId": "8f0de7f0-911f-4554-8791-7a924c72db30"
      },
      "execution_count": null,
      "outputs": [
        {
          "output_type": "stream",
          "name": "stdout",
          "text": [
            "{'java', 'C', 'banana', 'c++', 'kiwi', 'orange', 'python', 'apple', 'lemon'}\n"
          ]
        }
      ]
    },
    {
      "cell_type": "markdown",
      "source": [
        "**remove the items from set**"
      ],
      "metadata": {
        "id": "U8NQRt8Jimv5"
      }
    },
    {
      "cell_type": "code",
      "source": [
        "#1.pop()--yes we can use but it not a prferable method\n",
        "s5 = {'java', 'C', 'banana', 'c++', 'kiwi', 'orange', 'python', 'apple', 'lemon'}\n",
        "s5.pop()\n",
        "print(s5)"
      ],
      "metadata": {
        "colab": {
          "base_uri": "https://localhost:8080/"
        },
        "id": "GH2yM7jBivQK",
        "outputId": "cc73d198-eb62-4247-de36-a70d2e1674e9"
      },
      "execution_count": null,
      "outputs": [
        {
          "output_type": "stream",
          "name": "stdout",
          "text": [
            "{'C', 'banana', 'c++', 'kiwi', 'orange', 'python', 'apple', 'lemon'}\n"
          ]
        }
      ]
    },
    {
      "cell_type": "code",
      "source": [
        "#2.remove()--> is used remove specific item\n",
        "s5.remove('kiwi')\n",
        "print(s5)"
      ],
      "metadata": {
        "colab": {
          "base_uri": "https://localhost:8080/"
        },
        "id": "aGdgfFDqkjPd",
        "outputId": "522cfcdf-064e-4641-e56a-7419c160d12e"
      },
      "execution_count": null,
      "outputs": [
        {
          "output_type": "stream",
          "name": "stdout",
          "text": [
            "{'C', 'banana', 'c++', 'orange', 'python', 'apple', 'lemon'}\n"
          ]
        }
      ]
    },
    {
      "cell_type": "code",
      "source": [
        "#3.discard()-->is used remove specific item\n",
        "s5.discard('c++')\n",
        "print(s5)"
      ],
      "metadata": {
        "colab": {
          "base_uri": "https://localhost:8080/"
        },
        "id": "vyHVlRw7k-RO",
        "outputId": "9ffa2f7a-d646-4535-cafa-a25bcbc3ee76"
      },
      "execution_count": null,
      "outputs": [
        {
          "output_type": "stream",
          "name": "stdout",
          "text": [
            "{'C', 'banana', 'orange', 'python', 'apple', 'lemon'}\n"
          ]
        }
      ]
    },
    {
      "cell_type": "code",
      "source": [
        "#what is difference b/w remove and discard?\n",
        "#in remove() if the item doesn't exist means it through's an error\n",
        "#in discard() if the items doesn't exist it won't through an error\n",
        "s5.remove('c++')\n",
        "print(s5)"
      ],
      "metadata": {
        "id": "6XIgWi4ulPER"
      },
      "execution_count": null,
      "outputs": []
    },
    {
      "cell_type": "code",
      "source": [
        "s5.discard('kiwi')\n",
        "print(s5)"
      ],
      "metadata": {
        "colab": {
          "base_uri": "https://localhost:8080/"
        },
        "id": "ngbZqlppldzn",
        "outputId": "33832967-9be4-4dbb-9243-ace67e59222a"
      },
      "execution_count": null,
      "outputs": [
        {
          "output_type": "stream",
          "name": "stdout",
          "text": [
            "{'C', 'banana', 'orange', 'python', 'apple', 'lemon'}\n"
          ]
        }
      ]
    },
    {
      "cell_type": "code",
      "source": [
        "#remove all the elements from the set\n",
        "s5.clear()\n",
        "print(s5)"
      ],
      "metadata": {
        "id": "ThLy4ilTl3Hh"
      },
      "execution_count": null,
      "outputs": []
    },
    {
      "cell_type": "code",
      "source": [
        "#delete the entire set s5\n",
        "del s5\n",
        "print(s5)"
      ],
      "metadata": {
        "id": "id0ZVM5Gnr8R"
      },
      "execution_count": null,
      "outputs": []
    },
    {
      "cell_type": "code",
      "source": [
        "#union() combine all the data sets\n",
        "s1 = {'a','b','c','d'}\n",
        "s2 = {'d','e','f','g'}\n",
        "print(s1.union(s2))"
      ],
      "metadata": {
        "colab": {
          "base_uri": "https://localhost:8080/"
        },
        "id": "X-AeaSRuoc1h",
        "outputId": "2bbef035-62da-49bf-90d2-c23387fba3dc"
      },
      "execution_count": null,
      "outputs": [
        {
          "output_type": "stream",
          "name": "stdout",
          "text": [
            "{'a', 'g', 'e', 'b', 'c', 'f', 'd'}\n"
          ]
        }
      ]
    },
    {
      "cell_type": "code",
      "source": [
        "#intersection() prints the common elements\n",
        "print(s1.intersection(s2))"
      ],
      "metadata": {
        "colab": {
          "base_uri": "https://localhost:8080/"
        },
        "id": "WlySbdVIo0ad",
        "outputId": "22a5cfd1-54a7-4873-c97c-fae451a77441"
      },
      "execution_count": null,
      "outputs": [
        {
          "output_type": "stream",
          "name": "stdout",
          "text": [
            "{'d'}\n"
          ]
        }
      ]
    },
    {
      "cell_type": "code",
      "source": [
        "#difference() substarction of the items from other set\n",
        "print(s1.difference(s2))"
      ],
      "metadata": {
        "colab": {
          "base_uri": "https://localhost:8080/"
        },
        "id": "yPvnJU3lo5jV",
        "outputId": "1cb60c71-4857-4f47-fc53-e1a69eb5586e"
      },
      "execution_count": null,
      "outputs": [
        {
          "output_type": "stream",
          "name": "stdout",
          "text": [
            "{'b', 'c', 'a'}\n"
          ]
        }
      ]
    },
    {
      "cell_type": "markdown",
      "source": [
        "**dictionary**"
      ],
      "metadata": {
        "id": "M6sW8WEYpRqT"
      }
    },
    {
      "cell_type": "code",
      "source": [
        "#what is dictionary or how you can define dictionary?\n",
        "#dictionary---> {}\n",
        "#dictionary is unordered, mutable, it won't allow the duplicates\n",
        "#How information in the dictionary is stored?\n",
        "#the data in the dictionary can be stored as {key:value} pairs"
      ],
      "metadata": {
        "id": "WUGfZnNHqMeh"
      },
      "execution_count": null,
      "outputs": []
    },
    {
      "cell_type": "markdown",
      "source": [
        "**dict won't allow the duplicates**"
      ],
      "metadata": {
        "id": "zCzpJQvtrI9L"
      }
    },
    {
      "cell_type": "code",
      "source": [
        "d1 = {\n",
        "    'Name':'shahul',\n",
        "    'age':28,\n",
        "    'education': 'B.Tech',\n",
        "    'education': 'Masters'\n",
        "    }\n",
        "print(d1)\n",
        "print(len(d1))\n",
        "print(type(d1))"
      ],
      "metadata": {
        "id": "Fidvn8tyrGwe"
      },
      "execution_count": null,
      "outputs": []
    },
    {
      "cell_type": "markdown",
      "source": [
        "**dict is unorderd** means no index position numbers"
      ],
      "metadata": {
        "id": "3ns0paG_r7O7"
      }
    },
    {
      "cell_type": "code",
      "source": [
        "print(d1[0]) #KeyError: 0"
      ],
      "metadata": {
        "id": "KGy-6jj-twMK"
      },
      "execution_count": null,
      "outputs": []
    },
    {
      "cell_type": "code",
      "source": [
        "#how can we access the items in the dictionary\n",
        "#by using the \"keys\"\n",
        "print(d1['Name'])"
      ],
      "metadata": {
        "id": "1ajCymmst_ci"
      },
      "execution_count": null,
      "outputs": []
    },
    {
      "cell_type": "markdown",
      "source": [
        "**dict is muttable**"
      ],
      "metadata": {
        "id": "-JblDHmvuknt"
      }
    },
    {
      "cell_type": "code",
      "source": [
        "d1 = {\n",
        "    'Name':'shahul',\n",
        "    'age':28,\n",
        "    'education': 'B.Tech',\n",
        "    'education': 'Masters'\n",
        "    }\n",
        "#replace the name with your 'sir' name\n",
        "d1['Name'] = 'sk'\n",
        "print(d1)"
      ],
      "metadata": {
        "colab": {
          "base_uri": "https://localhost:8080/"
        },
        "id": "Bbs42L8DuZCS",
        "outputId": "e4aedd5e-0ca0-4828-83d3-a529baa21f4b"
      },
      "execution_count": null,
      "outputs": [
        {
          "output_type": "stream",
          "name": "stdout",
          "text": [
            "{'Name': 'sk', 'age': 28, 'education': 'Masters'}\n"
          ]
        }
      ]
    },
    {
      "cell_type": "code",
      "source": [
        "#add a new key:value pair to the d1\n",
        "d1['bike'] = 'RE'\n",
        "print(d1)"
      ],
      "metadata": {
        "colab": {
          "base_uri": "https://localhost:8080/"
        },
        "id": "Q-Q3Q1mdu-21",
        "outputId": "fee696e3-0283-4492-9a7f-f63c4d4c4dad"
      },
      "execution_count": null,
      "outputs": [
        {
          "output_type": "stream",
          "name": "stdout",
          "text": [
            "{'Name': 'sk', 'age': 28, 'education': 'Masters', 'bike': 'RE'}\n"
          ]
        }
      ]
    },
    {
      "cell_type": "markdown",
      "source": [
        "**remove items from dictionary**"
      ],
      "metadata": {
        "id": "hyh5SjYHwzFD"
      }
    },
    {
      "cell_type": "code",
      "source": [
        "print(dir(d1))"
      ],
      "metadata": {
        "colab": {
          "base_uri": "https://localhost:8080/"
        },
        "id": "93_m3wjrw2tY",
        "outputId": "497d4927-18a6-45d8-cee7-f32b9aafb72a"
      },
      "execution_count": null,
      "outputs": [
        {
          "output_type": "stream",
          "name": "stdout",
          "text": [
            "['__class__', '__class_getitem__', '__contains__', '__delattr__', '__delitem__', '__dir__', '__doc__', '__eq__', '__format__', '__ge__', '__getattribute__', '__getitem__', '__gt__', '__hash__', '__init__', '__init_subclass__', '__ior__', '__iter__', '__le__', '__len__', '__lt__', '__ne__', '__new__', '__or__', '__reduce__', '__reduce_ex__', '__repr__', '__reversed__', '__ror__', '__setattr__', '__setitem__', '__sizeof__', '__str__', '__subclasshook__', 'clear', 'copy', 'fromkeys', 'get', 'items', 'keys', 'pop', 'popitem', 'setdefault', 'update', 'values']\n"
          ]
        }
      ]
    },
    {
      "cell_type": "code",
      "source": [
        "\"\"\"'clear', 'copy', 'fromkeys', 'get', 'items', 'keys',\n",
        "'pop', 'popitem', 'setdefault', 'update', 'values' \"\"\"\n",
        "#pop('key_name\")  #note:- in pop() give the key name inside it\n",
        "d1.pop('age')\n",
        "d1"
      ],
      "metadata": {
        "colab": {
          "base_uri": "https://localhost:8080/"
        },
        "id": "99ZU3egCxDh4",
        "outputId": "3f34e4c3-c0fe-46ca-9a0c-a33c57beac90"
      },
      "execution_count": null,
      "outputs": [
        {
          "output_type": "execute_result",
          "data": {
            "text/plain": [
              "{'Name': 'sk', 'education': 'Masters', 'bike': 'RE'}"
            ]
          },
          "metadata": {},
          "execution_count": 27
        }
      ]
    },
    {
      "cell_type": "code",
      "source": [
        "#clear()"
      ],
      "metadata": {
        "id": "wPDdmEpQxYOs"
      },
      "execution_count": null,
      "outputs": []
    },
    {
      "cell_type": "code",
      "source": [
        "#update\n",
        "d2 = {'fruit':['apple','banana','lemon']}\n",
        "d1.update(d2)\n",
        "print(d1)"
      ],
      "metadata": {
        "colab": {
          "base_uri": "https://localhost:8080/"
        },
        "id": "0aA_WTSAxo7L",
        "outputId": "2e7bd9ad-23d7-4218-da33-6339f4d2add8"
      },
      "execution_count": null,
      "outputs": [
        {
          "output_type": "stream",
          "name": "stdout",
          "text": [
            "{'Name': 'sk', 'education': 'Masters', 'bike': 'RE', 'fruit': ['apple', 'banana', 'lemon']}\n"
          ]
        }
      ]
    },
    {
      "cell_type": "code",
      "source": [
        "#print fruits from above d1\n",
        "#print(d1['fruit'])\n",
        "print(d1['fruit'][0])\n"
      ],
      "metadata": {
        "colab": {
          "base_uri": "https://localhost:8080/"
        },
        "id": "Meq3Kkhix3yp",
        "outputId": "975412f0-edcf-4d4c-cf80-831097e027f3"
      },
      "execution_count": null,
      "outputs": [
        {
          "output_type": "stream",
          "name": "stdout",
          "text": [
            "apple\n"
          ]
        }
      ]
    },
    {
      "cell_type": "code",
      "source": [
        "print(d1.keys())"
      ],
      "metadata": {
        "colab": {
          "base_uri": "https://localhost:8080/"
        },
        "id": "KIl9WF8KyV51",
        "outputId": "a61598f8-bd39-47c7-b5b9-c289aea534f3"
      },
      "execution_count": null,
      "outputs": [
        {
          "output_type": "stream",
          "name": "stdout",
          "text": [
            "dict_keys(['Name', 'education', 'bike', 'fruit'])\n"
          ]
        }
      ]
    },
    {
      "cell_type": "code",
      "source": [
        "print(d1.values())"
      ],
      "metadata": {
        "colab": {
          "base_uri": "https://localhost:8080/"
        },
        "id": "LtiPkKlbyavv",
        "outputId": "29ce4eb8-b89b-4244-bb52-6c0739035bc4"
      },
      "execution_count": null,
      "outputs": [
        {
          "output_type": "stream",
          "name": "stdout",
          "text": [
            "dict_values(['sk', 'Masters', 'RE', ['apple', 'banana', 'lemon']])\n"
          ]
        }
      ]
    },
    {
      "cell_type": "code",
      "source": [
        "d2 = {\n",
        "    'Name': 'sk',\n",
        "    'education': 'Masters',\n",
        "    'bike': 'RE',\n",
        "    'fruit': {'apple', 'banana', 'lemon'}}\n",
        "#print(d2['fruit'][0])\n"
      ],
      "metadata": {
        "id": "2Y00zHd20MiX"
      },
      "execution_count": null,
      "outputs": []
    },
    {
      "cell_type": "code",
      "source": [
        "d2.clear()\n",
        "print(d2)"
      ],
      "metadata": {
        "colab": {
          "base_uri": "https://localhost:8080/"
        },
        "id": "0sx_-G5f10t0",
        "outputId": "e4d3d9ef-6c18-42b6-d1ee-83f7896a9636"
      },
      "execution_count": null,
      "outputs": [
        {
          "output_type": "stream",
          "name": "stdout",
          "text": [
            "{}\n"
          ]
        }
      ]
    },
    {
      "cell_type": "code",
      "source": [
        "#list--->[]--> ordered, muttable, allows duplicates\n",
        "      \"\"\"add methods:- append(),extend(), insert()\n",
        "        remove methods:- pop(),remove(),del l[start:end], clear\"\"\"\n",
        "#tuple-->()--> ordered, immutable, allows duplicates\n",
        "#set---> {}--> unordered, immutable, doesn't allow duplicates\n",
        "     \"\"\" add methods:- add(), update()\n",
        "        remove methods:- pop(),remove(),discard(),clear,del\"\"\"\n",
        "#dictionary--->{key:value}--> unordered,muttable, doen't allow duplicates\n",
        "    \"\"\" add methods:- update(),  d1['new_key_name']\n",
        "        remove methods:- pop('key_name'),clear(), del\"\"\""
      ],
      "metadata": {
        "id": "KVmKGlfH0eew"
      },
      "execution_count": null,
      "outputs": []
    },
    {
      "cell_type": "code",
      "source": [
        "#sort can be done based on ASCII values\n",
        "l = ['Apple','banana','kiwi','Orange','grapes']\n",
        "l.sort(reverse = False)\n",
        "print(l)"
      ],
      "metadata": {
        "colab": {
          "base_uri": "https://localhost:8080/"
        },
        "id": "aeHl2Ryy2Bm-",
        "outputId": "71c50eb1-507a-45a4-ef73-ab5542ce6141"
      },
      "execution_count": null,
      "outputs": [
        {
          "output_type": "stream",
          "name": "stdout",
          "text": [
            "['Apple', 'Orange', 'banana', 'grapes', 'kiwi']\n"
          ]
        }
      ]
    },
    {
      "cell_type": "code",
      "source": [
        "print(dir(l))"
      ],
      "metadata": {
        "colab": {
          "base_uri": "https://localhost:8080/"
        },
        "id": "7JigO3Hr2d7s",
        "outputId": "c8a16df8-77ae-44f3-cf94-751b92bed4b9"
      },
      "execution_count": null,
      "outputs": [
        {
          "output_type": "stream",
          "name": "stdout",
          "text": [
            "['__add__', '__class__', '__class_getitem__', '__contains__', '__delattr__', '__delitem__', '__dir__', '__doc__', '__eq__', '__format__', '__ge__', '__getattribute__', '__getitem__', '__gt__', '__hash__', '__iadd__', '__imul__', '__init__', '__init_subclass__', '__iter__', '__le__', '__len__', '__lt__', '__mul__', '__ne__', '__new__', '__reduce__', '__reduce_ex__', '__repr__', '__reversed__', '__rmul__', '__setattr__', '__setitem__', '__sizeof__', '__str__', '__subclasshook__', 'append', 'clear', 'copy', 'count', 'extend', 'index', 'insert', 'pop', 'remove', 'reverse', 'sort']\n"
          ]
        }
      ]
    },
    {
      "cell_type": "code",
      "source": [
        "a = [1,2,3,4,1,4,3,4,5,6,6]\n",
        "a.sort(reverse = True)\n",
        "print(a)"
      ],
      "metadata": {
        "colab": {
          "base_uri": "https://localhost:8080/"
        },
        "id": "YXg4dlZq20yZ",
        "outputId": "7b5d8ed2-57e6-4476-8ee3-f12fbe8995fd"
      },
      "execution_count": null,
      "outputs": [
        {
          "output_type": "stream",
          "name": "stdout",
          "text": [
            "[6, 6, 5, 4, 4, 4, 3, 3, 2, 1, 1]\n"
          ]
        }
      ]
    },
    {
      "cell_type": "code",
      "source": [
        "#can we convert a list in to dictionary--> n0\n",
        "#can we convery a list in to set-->yes\n",
        "print(set(a))"
      ],
      "metadata": {
        "colab": {
          "base_uri": "https://localhost:8080/"
        },
        "id": "oRlrIKRY37gv",
        "outputId": "4dbd063f-b002-4a68-aa21-0cbb39046425"
      },
      "execution_count": null,
      "outputs": [
        {
          "output_type": "stream",
          "name": "stdout",
          "text": [
            "{1, 2, 3, 4, 5, 6}\n"
          ]
        }
      ]
    },
    {
      "cell_type": "code",
      "source": [
        "#find the minimum number in a list?\n",
        "list = [2,15,85,35,65,12,125,2,12,34,5,6,8]\n",
        "min = list[0]\n",
        "for i in list:\n",
        "  if min > i:\n",
        "    min = i\n",
        "print(min)\n"
      ],
      "metadata": {
        "id": "yN7NSFvcgIN7"
      },
      "execution_count": null,
      "outputs": []
    },
    {
      "cell_type": "code",
      "source": [
        "##find the maximum number in a list?\n",
        "max = list[0]\n",
        "for i in list:\n",
        "  if max < i:\n",
        "    max = i\n",
        "print(max)"
      ],
      "metadata": {
        "colab": {
          "base_uri": "https://localhost:8080/"
        },
        "id": "frHZm2GKiYS0",
        "outputId": "f3ff74f2-660c-45f9-d06a-b0b54ec37d8f"
      },
      "execution_count": null,
      "outputs": [
        {
          "output_type": "stream",
          "name": "stdout",
          "text": [
            "125\n"
          ]
        }
      ]
    },
    {
      "cell_type": "code",
      "source": [
        "#find the middle element in the list\n",
        "list = [1,2,3,4,5]\n",
        "mid = int(len(list)/2)\n",
        "print(list[mid])"
      ],
      "metadata": {
        "colab": {
          "base_uri": "https://localhost:8080/"
        },
        "id": "tPfu1HBDjNBG",
        "outputId": "6007c936-5a53-4311-8611-990ae90c30ff"
      },
      "execution_count": null,
      "outputs": [
        {
          "output_type": "stream",
          "name": "stdout",
          "text": [
            "3\n"
          ]
        }
      ]
    },
    {
      "cell_type": "code",
      "source": [
        "#converting a list into string?\n",
        "list = ['p','y','t','h','o','n']\n",
        "string = \"\".join(list)\n",
        "print(string)\n",
        "print(type(string))"
      ],
      "metadata": {
        "colab": {
          "base_uri": "https://localhost:8080/"
        },
        "id": "aTjyhMCEkZ2e",
        "outputId": "9663201b-48c3-4dc0-bff9-1ad70d84cb6d"
      },
      "execution_count": null,
      "outputs": [
        {
          "output_type": "stream",
          "name": "stdout",
          "text": [
            "python\n",
            "<class 'str'>\n"
          ]
        }
      ]
    },
    {
      "cell_type": "code",
      "source": [
        "#comparing two strings for anagrams?\n",
        "str1 = 'Listen'\n",
        "str2 = 'Silent'\n",
        "s = str1.lower()\n",
        "s2 = str2.lower()\n",
        "if len(s) == len(s2):\n",
        "  #print('string is in same length')\n",
        "  #sort the string\n",
        "  sort1 = sorted(s)\n",
        "  sort2 = sorted(s2)\n",
        "  if sort1 == sort2:\n",
        "    print(f'{str1} and {str2} are anagrams')\n",
        "  else:\n",
        "    print(f'{str1} and {str2} are not anagrams')\n",
        "\n"
      ],
      "metadata": {
        "id": "1spy9OIClGHx"
      },
      "execution_count": null,
      "outputs": []
    },
    {
      "cell_type": "markdown",
      "source": [],
      "metadata": {
        "id": "I_QNCqhnorfm"
      }
    }
  ]
}